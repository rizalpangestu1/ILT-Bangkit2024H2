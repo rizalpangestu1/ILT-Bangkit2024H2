{
  "nbformat": 4,
  "nbformat_minor": 0,
  "metadata": {
    "colab": {
      "provenance": [],
      "include_colab_link": true
    },
    "kernelspec": {
      "name": "python3",
      "display_name": "Python 3"
    },
    "language_info": {
      "name": "python"
    }
  },
  "cells": [
    {
      "cell_type": "markdown",
      "metadata": {
        "id": "view-in-github",
        "colab_type": "text"
      },
      "source": [
        "<a href=\"https://colab.research.google.com/github/rizalpangestu1/ILT-Bangkit2024H2/blob/main/Copy_of_Demo_ILT_1_Machine_Learning_(2024_H2)_Lets_Play_with_Python.ipynb\" target=\"_parent\"><img src=\"https://colab.research.google.com/assets/colab-badge.svg\" alt=\"Open In Colab\"/></a>"
      ]
    },
    {
      "cell_type": "markdown",
      "source": [
        "# Introduction to  Python\n"
      ],
      "metadata": {
        "id": "ApHE4w8GU_ep"
      }
    },
    {
      "cell_type": "markdown",
      "source": [
        "## Hello World in Python"
      ],
      "metadata": {
        "id": "vHzt87DYXZMq"
      }
    },
    {
      "cell_type": "markdown",
      "source": [
        "**What is Python?**\n",
        "\n",
        "Python is a dynamic, interpreted (bytecode-compiled) language.\n",
        "\n",
        "**Why programming with Python?**\n",
        "* Easy syntax\n",
        "* Most chosen language for IT\n",
        "* Omnipresent\n",
        "* Versatile\n",
        "\n"
      ],
      "metadata": {
        "id": "lqot9q8IYTjE"
      }
    },
    {
      "cell_type": "code",
      "source": [
        "# Check an installed Python\n",
        "! python --version"
      ],
      "metadata": {
        "colab": {
          "base_uri": "https://localhost:8080/"
        },
        "id": "h2TaBzGjXfrn",
        "outputId": "2932c9e8-6e2e-476a-b0a3-23506812dcd3"
      },
      "execution_count": null,
      "outputs": [
        {
          "output_type": "stream",
          "name": "stdout",
          "text": [
            "Python 3.10.12\n"
          ]
        }
      ]
    },
    {
      "cell_type": "code",
      "source": [
        "! python3 -V"
      ],
      "metadata": {
        "id": "b8LyoN3i7xla"
      },
      "execution_count": null,
      "outputs": []
    },
    {
      "cell_type": "code",
      "execution_count": null,
      "metadata": {
        "colab": {
          "base_uri": "https://localhost:8080/"
        },
        "id": "JCHI9CDAUPnk",
        "outputId": "86bef18e-f3bc-4fe6-dcf7-06ef64f1898b"
      },
      "outputs": [
        {
          "output_type": "stream",
          "name": "stdout",
          "text": [
            "hello, bangkit!\n"
          ]
        }
      ],
      "source": [
        "print('hello, bangkit!')"
      ]
    },
    {
      "cell_type": "markdown",
      "source": [
        "## Basic Python Syntax"
      ],
      "metadata": {
        "id": "388VwBZmYPs0"
      }
    },
    {
      "cell_type": "markdown",
      "source": [
        "### Data Types\n",
        "\n",
        "* **String** (str): text.\n",
        "* **Integer** (int): numbers, without fraction.\n",
        "* **Float**: numbers with fraction.\n",
        "* **Boolean** (bool): data type which only has 2 values\n",
        "\n",
        "We can convert from one data type to others by committing to implicit conversion or defining an explicit conversion.\n"
      ],
      "metadata": {
        "id": "hRw-NPjcZVVe"
      }
    },
    {
      "cell_type": "code",
      "source": [
        "# Convert String to Integer\n",
        "phone = \"895444333558\"\n",
        "print(type(phone))\n",
        "\n",
        "phone = int(phone)\n",
        "print(type(phone))"
      ],
      "metadata": {
        "id": "Ajb8ZM3qRJNy"
      },
      "execution_count": null,
      "outputs": []
    },
    {
      "cell_type": "markdown",
      "source": [
        "### Variables\n",
        "* Name to certain values\n",
        "* The values can be any data type\n",
        "* The process of storing a value inside a variable is called an assignment.\n",
        "* Can only be made up of letters, numbers, and underscore.\n",
        "* Can’t be Python reserved keywords."
      ],
      "metadata": {
        "id": "M_oidvqRbwPX"
      }
    },
    {
      "cell_type": "code",
      "source": [
        "# String (str)\n",
        "color = \"red\"\n",
        "print(type(color))"
      ],
      "metadata": {
        "colab": {
          "base_uri": "https://localhost:8080/"
        },
        "id": "pd6sULeYYFVm",
        "outputId": "7270682b-020a-4faa-b1cb-022738e627dd"
      },
      "execution_count": null,
      "outputs": [
        {
          "output_type": "stream",
          "name": "stdout",
          "text": [
            "<class 'str'>\n"
          ]
        }
      ]
    },
    {
      "cell_type": "code",
      "source": [
        "# Integer (int)\n",
        "length = 10\n",
        "print(type(length))"
      ],
      "metadata": {
        "colab": {
          "base_uri": "https://localhost:8080/"
        },
        "id": "dnWjuU5VayEf",
        "outputId": "1e207800-194c-4001-dd2d-ee4659b82486"
      },
      "execution_count": null,
      "outputs": [
        {
          "output_type": "stream",
          "name": "stdout",
          "text": [
            "<class 'int'>\n"
          ]
        }
      ]
    },
    {
      "cell_type": "code",
      "source": [
        "# Float\n",
        "width = 2.0\n",
        "print(type(width))"
      ],
      "metadata": {
        "colab": {
          "base_uri": "https://localhost:8080/"
        },
        "id": "5m38VmsTbCk0",
        "outputId": "b3fc874f-a701-41c8-aacf-50b4a04dcb1d"
      },
      "execution_count": null,
      "outputs": [
        {
          "output_type": "stream",
          "name": "stdout",
          "text": [
            "<class 'float'>\n"
          ]
        }
      ]
    },
    {
      "cell_type": "code",
      "source": [
        "print(type(int(width)))"
      ],
      "metadata": {
        "colab": {
          "base_uri": "https://localhost:8080/"
        },
        "id": "b3mU-O3CbOCG",
        "outputId": "05484842-6526-468c-c7c6-c8c902a86877"
      },
      "execution_count": null,
      "outputs": [
        {
          "output_type": "stream",
          "name": "stdout",
          "text": [
            "<class 'int'>\n"
          ]
        }
      ]
    },
    {
      "cell_type": "markdown",
      "source": [
        "**Don't Do This**"
      ],
      "metadata": {
        "id": "K3E-I51FcUmB"
      }
    },
    {
      "cell_type": "code",
      "source": [
        "def = 'Function'\n",
        "class = 'Class'\n",
        "print(and)\n",
        "print(or)"
      ],
      "metadata": {
        "id": "dGftZ9LabgwV",
        "colab": {
          "base_uri": "https://localhost:8080/",
          "height": 111
        },
        "outputId": "2bbdfbba-0555-48e2-ad8a-6354f0887341"
      },
      "execution_count": null,
      "outputs": [
        {
          "output_type": "error",
          "ename": "SyntaxError",
          "evalue": "invalid syntax (<ipython-input-2-8ebbfd797da5>, line 1)",
          "traceback": [
            "\u001b[0;36m  File \u001b[0;32m\"<ipython-input-2-8ebbfd797da5>\"\u001b[0;36m, line \u001b[0;32m1\u001b[0m\n\u001b[0;31m    def = 'Function'\u001b[0m\n\u001b[0m        ^\u001b[0m\n\u001b[0;31mSyntaxError\u001b[0m\u001b[0;31m:\u001b[0m invalid syntax\n"
          ]
        }
      ]
    },
    {
      "cell_type": "markdown",
      "source": [
        "### Comparison\n",
        "* Boolean (bool) data type represents one of two possible states, either True or False.\n",
        "* Not all data types can be compared, so be aware to compare two different data types.\n",
        "* Comparison operator not only checking equality and less/more it also includes logical operator: and, or, not.\n"
      ],
      "metadata": {
        "id": "xYCEhaOlfbK0"
      }
    },
    {
      "cell_type": "markdown",
      "source": [
        "* Comparison operators\n",
        "  * a == b: a is equal to b\n",
        "  * a != b: a is different than b\n",
        "  * a < b: a is smaller than b\n",
        "  * a <= b: a is smaller or equal to b\n",
        "  * a > b: a is bigger than b\n",
        "  * a >= b: a is bigger or equal to b\n",
        "\n",
        "* Logical operators\n",
        "  * a and b: True if both a and b are True. False otherwise.\n",
        "  * a or b: True if either a or b or both are True. False if both are False.\n",
        "  * not a: True if a is False, False if a is True.\n"
      ],
      "metadata": {
        "id": "x79WDe4vf4Ve"
      }
    },
    {
      "cell_type": "code",
      "source": [
        "print(1 < 10)\n",
        "\n",
        "print(\"Linux\" == \"Windows\")\n",
        "\n",
        "print(1 != \"1\")\n",
        "\n",
        "print(not True)\n"
      ],
      "metadata": {
        "colab": {
          "base_uri": "https://localhost:8080/"
        },
        "id": "E5dQxPXMfnLZ",
        "outputId": "7abaafea-58b1-4ab6-ecd2-2ebe35c0a597"
      },
      "execution_count": null,
      "outputs": [
        {
          "output_type": "stream",
          "name": "stdout",
          "text": [
            "True\n",
            "False\n",
            "True\n",
            "False\n"
          ]
        }
      ]
    },
    {
      "cell_type": "markdown",
      "source": [
        "### Functions\n",
        "* Define function with def keyword.\n",
        "* Function has body, written as a block after colon in function definition. The block has indented to the right.\n",
        "* To get value from a function use the return keyword.\n"
      ],
      "metadata": {
        "id": "XyqGDWKNce5N"
      }
    },
    {
      "cell_type": "code",
      "source": [
        "def greeting(name):\n",
        "  return 'Hello, ' + name\n",
        "\n",
        "print(greeting(\"Bangkit 2024\"))"
      ],
      "metadata": {
        "colab": {
          "base_uri": "https://localhost:8080/"
        },
        "id": "-xDdDieMcaEv",
        "outputId": "7a1e44cb-2586-445d-fdf0-35088b27dd8c"
      },
      "execution_count": null,
      "outputs": [
        {
          "output_type": "stream",
          "name": "stdout",
          "text": [
            "Hello, Bangkit 2024\n"
          ]
        }
      ]
    },
    {
      "cell_type": "markdown",
      "source": [
        "### Conditional & If Statements\n",
        "* The ability of a program to alter its execution sequence is called branching.\n",
        "* The if block will be executed only if the condition is True.\n",
        "* Use elif & else statement to handle multiple conditions."
      ],
      "metadata": {
        "id": "DM6lel6hc_QH"
      }
    },
    {
      "cell_type": "code",
      "source": [
        "hour = 10\n",
        "if hour < 12:\n",
        "  print(\"Good morning!\")"
      ],
      "metadata": {
        "colab": {
          "base_uri": "https://localhost:8080/"
        },
        "id": "IwHO0YxSc2Hf",
        "outputId": "a3c7c342-4153-4daf-947a-dc1ddfdbf4d3"
      },
      "execution_count": null,
      "outputs": [
        {
          "output_type": "stream",
          "name": "stdout",
          "text": [
            "Good morning!\n"
          ]
        }
      ]
    },
    {
      "cell_type": "code",
      "source": [
        "def check(number):\n",
        "    if number > 0:\n",
        "        return \"Positive\"\n",
        "    elif number == 0:\n",
        "        return \"Zero\"\n",
        "    else:\n",
        "        return \"Negative\"\n",
        "\n",
        "print(check(10))"
      ],
      "metadata": {
        "colab": {
          "base_uri": "https://localhost:8080/"
        },
        "id": "ycVxi8cEdTyt",
        "outputId": "8c0282c6-5041-4b9e-cd07-dc10da8025db"
      },
      "execution_count": null,
      "outputs": [
        {
          "output_type": "stream",
          "name": "stdout",
          "text": [
            "Positive\n"
          ]
        }
      ]
    },
    {
      "cell_type": "markdown",
      "source": [
        "### Loops\n",
        "\n",
        "**while** loop instruct computer to continuously execute code based on the value of a condition.\n",
        "\n",
        "\n"
      ],
      "metadata": {
        "id": "EBeW3s6kgevL"
      }
    },
    {
      "cell_type": "code",
      "source": [
        "x = 7\n",
        "\n",
        "while x > 0:\n",
        "  print(\"positive x=\" + str(x))\n",
        "  x = x - 1\n",
        "  print(\"now x=\" + str(x))\n"
      ],
      "metadata": {
        "colab": {
          "base_uri": "https://localhost:8080/"
        },
        "id": "ZKXR6gZGfRI_",
        "outputId": "cc3cea0d-a98b-4f04-c7d1-522edec397ca"
      },
      "execution_count": null,
      "outputs": [
        {
          "output_type": "stream",
          "name": "stdout",
          "text": [
            "positive x=7\n",
            "now x=6\n",
            "positive x=6\n",
            "now x=5\n",
            "positive x=5\n",
            "now x=4\n",
            "positive x=4\n",
            "now x=3\n",
            "positive x=3\n",
            "now x=2\n",
            "positive x=2\n",
            "now x=1\n",
            "positive x=1\n",
            "now x=0\n"
          ]
        }
      ]
    },
    {
      "cell_type": "markdown",
      "source": [
        "**Warning** to avoid infinity loop like this"
      ],
      "metadata": {
        "id": "rFu7n3CJWpSa"
      }
    },
    {
      "cell_type": "code",
      "source": [
        "while x > 0:\n",
        "  print(\"positive x=\" + str(x))\n",
        "  x = x + 1 # Wrong conditions\n",
        "  print(\"now x=\" + str(x))"
      ],
      "metadata": {
        "id": "Omf8QboTW1GD"
      },
      "execution_count": null,
      "outputs": []
    },
    {
      "cell_type": "markdown",
      "source": [
        "\n",
        "**for** loop iterates over a sequence of values."
      ],
      "metadata": {
        "id": "mBicYfLNgqBU"
      }
    },
    {
      "cell_type": "code",
      "source": [
        "for x in range(3):\n",
        "  print(\"x=\" + str(x))"
      ],
      "metadata": {
        "id": "ItDfsx5-grSM"
      },
      "execution_count": null,
      "outputs": []
    },
    {
      "cell_type": "markdown",
      "source": [
        "**for** loop also can do this"
      ],
      "metadata": {
        "id": "KP3gITscXRvz"
      }
    },
    {
      "cell_type": "code",
      "source": [
        "sentences = ['Bangkit', \"2024\", \"H1\"]\n",
        "for word in sentences:\n",
        "  print(word)"
      ],
      "metadata": {
        "id": "fgOIIQDAXKgH"
      },
      "execution_count": null,
      "outputs": []
    },
    {
      "cell_type": "markdown",
      "source": [
        "Both while and for loops can be interrupted using the **break** keyword.\n",
        "\n"
      ],
      "metadata": {
        "id": "Nr8XRQx6hMYI"
      }
    },
    {
      "cell_type": "code",
      "source": [
        "for x in range(3):\n",
        "    print(\"x=\" + str(x))\n",
        "    if x == 1:\n",
        "        break  # quit from loop\n"
      ],
      "metadata": {
        "id": "vt5AIOQtg5wd"
      },
      "execution_count": null,
      "outputs": []
    },
    {
      "cell_type": "markdown",
      "source": [
        "Use the **continue** keyword to skip the current iteration and continue with the next one."
      ],
      "metadata": {
        "id": "LAdX1_e6hU2x"
      }
    },
    {
      "cell_type": "code",
      "source": [
        "for x in range(3, 0, -1):\n",
        "    if x % 2 == 0:\n",
        "        continue  # skip even\n",
        "    print(x)\n"
      ],
      "metadata": {
        "colab": {
          "base_uri": "https://localhost:8080/"
        },
        "id": "KWEYYL7AhO4t",
        "outputId": "65d8c845-5980-45f0-b5d1-c53e9c0f2577"
      },
      "execution_count": null,
      "outputs": [
        {
          "output_type": "stream",
          "name": "stdout",
          "text": [
            "3\n",
            "1\n"
          ]
        }
      ]
    },
    {
      "cell_type": "markdown",
      "source": [
        "\n",
        "**`Mini Quiz`**\n",
        "---\n",
        "What will happen if we run this program?"
      ],
      "metadata": {
        "id": "JTFKUFTAYevF"
      }
    },
    {
      "cell_type": "code",
      "source": [
        "x = 0\n",
        "\n",
        "while x < 10:\n",
        "  print(\"x=\" + str(x))\n",
        "  x = x - 1\n",
        "  print(\"x=\" + str(x))\n"
      ],
      "metadata": {
        "id": "9Vp19oogYqf8"
      },
      "execution_count": null,
      "outputs": []
    },
    {
      "cell_type": "markdown",
      "source": [
        "## Python Data Structure\n"
      ],
      "metadata": {
        "id": "QkwBAt7HhsIU"
      }
    },
    {
      "cell_type": "markdown",
      "source": [
        "### Strings\n",
        "\n",
        "* **Represent a piece of text**.\n",
        "\n",
        "String is a data type in Python employed to represent a piece of text. It’s written between quotes, either single quotes, double quotes, or triple quotes. Escape character using backslash (\\).\n",
        "\n",
        "String can be as short as zero characters (empty string) or significantly long. String concatenation using plus sign (+). The **len** function tells the number of characters contained in the string.\n"
      ],
      "metadata": {
        "id": "2A_xK5CkiPcx"
      }
    },
    {
      "cell_type": "code",
      "source": [
        "program_name = 'bangkit'\n",
        "program_year = \"it's the 2nd\"\n",
        "multi_line = \"\"\"hello,\n",
        "email test.\n",
        "signature.\"\"\"\n",
        "\n",
        "# let's\n",
        "# \"bangkit\"\n",
        "print(\"let's\\n\\\"\"+program_name+\"\\\"\")\n",
        "\n",
        "\n",
        "print(len(''))  # 0\n",
        "print(len(program_name)==7)  # True\n"
      ],
      "metadata": {
        "colab": {
          "base_uri": "https://localhost:8080/"
        },
        "id": "cZFRNf77i91s",
        "outputId": "d5412b80-ec13-426e-eb47-1723bcdc3447"
      },
      "execution_count": null,
      "outputs": [
        {
          "output_type": "stream",
          "name": "stdout",
          "text": [
            "let's\n",
            "\"bangkit\"\n",
            "0\n",
            "True\n"
          ]
        }
      ]
    },
    {
      "cell_type": "markdown",
      "source": [
        "* **To access substring, use index or slicing**.\n",
        "\n",
        "Python starts counting indexes from 0 not 1. Access index greater than its length - 1, triggers index out of range. Negative indexes starts from behind.\n",
        "\n",
        "To access substring, use slicing, similar to index, with range using a colon as a separator, starts from first number, up to 1 less than last.\n",
        "\n",
        "Slicing with one of two indexes means the other index is either 0 for the first value or its length for the second value.\n"
      ],
      "metadata": {
        "id": "A0vx0h5Yi-oc"
      }
    },
    {
      "cell_type": "code",
      "source": [
        "name = 'bangkit'\n",
        "print(name[1])  # a\n",
        "print(name[len(name)-1])  # t\n",
        "print(name[-1])  # t\n",
        "print(name[-2])  # i\n",
        "\n",
        "print(name[4:len(name)-1])  # ki\n",
        "\n",
        "print(name[:4])  # bang (0-3)\n",
        "print(name[4:])  # kit  (4-len)"
      ],
      "metadata": {
        "colab": {
          "base_uri": "https://localhost:8080/"
        },
        "id": "CWK5PbZMhP-E",
        "outputId": "44998e03-cee7-48de-edfd-69e991be7737"
      },
      "execution_count": null,
      "outputs": [
        {
          "output_type": "stream",
          "name": "stdout",
          "text": [
            "a\n",
            "t\n",
            "t\n",
            "i\n",
            "ki\n",
            "bang\n",
            "kit\n"
          ]
        }
      ]
    },
    {
      "cell_type": "markdown",
      "source": [
        "* **Strings in Python are immutable**\n",
        "\n",
        "Strings in Python are immutable, meaning they can't be modified, can’t change individual characters. It'll trigger TypeError object does not support item assignment.\n",
        "\n",
        "To change string, replace it with the new string.\n",
        "\n",
        "Use in keyword to check if substring is a part of the string."
      ],
      "metadata": {
        "id": "oM--5287iyJO"
      }
    },
    {
      "cell_type": "code",
      "source": [
        "year = \"it's 2024\"\n",
        "year[-1] = \"0\"  # TypeError"
      ],
      "metadata": {
        "id": "GKVOcTT9ijAi"
      },
      "execution_count": null,
      "outputs": []
    },
    {
      "cell_type": "markdown",
      "source": [
        "* **Provide a bunch of methods for working with text**\n",
        "\n",
        "String class provide a bunch of methods for working with text. Not only related to text modification, there's also many of text checking method.\n",
        "\n",
        "Remember, the goal is not for memorize all of the methods, just check the documentation or search on the web anytime."
      ],
      "metadata": {
        "id": "vW6HqPvQi0MU"
      }
    },
    {
      "cell_type": "code",
      "source": [
        "program = 'bangkit 2024'\n",
        "print(program.index('g'))  # 3\n",
        "\n",
        "print(program.upper())  # BANGKIT 2021\n",
        "print(program.endswith('2024'))  # True\n",
        "print(program.replace('2024', '2023'))\n",
        "\n",
        "year = 2024  # integer 2021\n",
        "print(str(year).isnumeric())  # True\n",
        "# bangkit for 2021\n",
        "print(\"{} for {}\".format(\"bangkit\", year))\n"
      ],
      "metadata": {
        "id": "mOoxsQWHhqrM"
      },
      "execution_count": null,
      "outputs": []
    },
    {
      "cell_type": "markdown",
      "source": [
        "### **List**"
      ],
      "metadata": {
        "id": "2XwOEbkv83cm"
      }
    },
    {
      "cell_type": "markdown",
      "source": [
        "A list in Python is a mutable, ordered collection of items. It is a versatile data structure that can hold elements of different data types. Lists are defined by enclosing elements in square brackets (`[]`) and separating them with commas.\n",
        "\n",
        "\n",
        "- Lists can contain any type of data, such as integers, floats, strings, or even other lists.\n",
        "- Being ordered means that the elements in a list have a specific order, and they can be accessed by their index.\n",
        "- Mutability allows adding, removing, or modifying elements in a list after its creation.\n"
      ],
      "metadata": {
        "id": "PG-poDFg-iQN"
      }
    },
    {
      "cell_type": "markdown",
      "source": [
        "#### **Example:**"
      ],
      "metadata": {
        "id": "MIwFW91a_VHp"
      }
    },
    {
      "cell_type": "code",
      "source": [
        "# List of fruit names\n",
        "fruits = ['apple', 'banana', 'orange', 'grape', 'kiwi', 'mango', 'pineapple']\n",
        "print(fruits)\n",
        "print(type(fruits))"
      ],
      "metadata": {
        "id": "sbiE3Ozk-k6T"
      },
      "execution_count": null,
      "outputs": []
    },
    {
      "cell_type": "markdown",
      "source": [
        "In this example:\n",
        "- A list named `fruits` is created with several fruit names.\n",
        "- The `print(fruits)` statement displays the content of the list.\n",
        "- The `print(type(fruits))` statement shows the data type of the variable, which is a list."
      ],
      "metadata": {
        "id": "Y2f2zLHS_IKh"
      }
    },
    {
      "cell_type": "markdown",
      "source": [
        "#### **Using Lists for Different Data Types**"
      ],
      "metadata": {
        "id": "akJTNP1i_XmM"
      }
    },
    {
      "cell_type": "markdown",
      "source": [
        "In Python, lists are versatile and can hold various data types, not just strings. A single list can contain elements of different types, including integers, floats, and even other lists."
      ],
      "metadata": {
        "id": "MAKqRm1H_a_-"
      }
    },
    {
      "cell_type": "code",
      "source": [
        "# List with different data types\n",
        "mixed_list = [1, 2.5, \"apple\", True, [3, 4, 5]]\n",
        "\n",
        "# Accessing elements\n",
        "print(\"Element at index 2:\", mixed_list[2])  # Accessing a string\n",
        "print(\"Element at index 4:\", mixed_list[4])  # Accessing a nested list\n",
        "\n",
        "# Modifying the list\n",
        "mixed_list[1] = 10.5  # Modifying a float to an integer\n",
        "mixed_list.append(\"orange\")  # Adding a string to the end\n",
        "print(\"Modified list:\", mixed_list)"
      ],
      "metadata": {
        "id": "NY5hLahq_dIv"
      },
      "execution_count": null,
      "outputs": []
    },
    {
      "cell_type": "markdown",
      "source": [
        "In this example:\n",
        "- `mixed_list` is a list containing an integer, a float, a string, a boolean, and another nested list.\n",
        "- Elements can be accessed and modified regardless of their data type.\n",
        "- The `append` method is used to add a new element (\"orange\") to the end of the list.\n",
        "\n",
        "This flexibility makes lists powerful for handling diverse data in Python."
      ],
      "metadata": {
        "id": "C45yBV1p_fVK"
      }
    },
    {
      "cell_type": "markdown",
      "source": [
        "#### **Handling Heterogeneous Data in Lists**"
      ],
      "metadata": {
        "id": "LBHYehIS_uaS"
      }
    },
    {
      "cell_type": "markdown",
      "source": [
        "In Python, a list can be used to store more than one data type, creating a heterogeneous collection of elements. This flexibility allows a single list to hold elements of different types, such as integers, floats, strings, and more."
      ],
      "metadata": {
        "id": "Mk8mM_yL_x_o"
      }
    },
    {
      "cell_type": "code",
      "source": [
        "# List with heterogeneous data types\n",
        "heterogeneous_list = [1, \"apple\", 3.14, True, [5, 6]]\n",
        "\n",
        "# Accessing elements\n",
        "print(\"Element at index 1:\", heterogeneous_list[1])  # Accessing a string\n",
        "print(\"Element at index 3:\", heterogeneous_list[3])  # Accessing a boolean\n",
        "\n",
        "# Modifying the list\n",
        "heterogeneous_list[0] = 10  # Modifying an integer\n",
        "heterogeneous_list.append(\"orange\")  # Adding a string to the end\n",
        "print(\"Modified list:\", heterogeneous_list)"
      ],
      "metadata": {
        "id": "VWBWsVo7_1ez"
      },
      "execution_count": null,
      "outputs": []
    },
    {
      "cell_type": "markdown",
      "source": [
        "In this example:\n",
        "- `heterogeneous_list` is a list containing elements of different data types.\n",
        "- Elements can be accessed and modified regardless of their data type.\n",
        "- The `append` method is used to add a new element (\"orange\") to the end of the list.\n",
        "\n",
        "This feature makes lists in Python suitable for handling diverse and mixed types of data."
      ],
      "metadata": {
        "id": "PzP5-Ne7_3nt"
      }
    },
    {
      "cell_type": "markdown",
      "source": [
        "#### **Nested Lists in Python**"
      ],
      "metadata": {
        "id": "SxJFTqXgAQcG"
      }
    },
    {
      "cell_type": "markdown",
      "source": [
        "In Python, a list can contain other lists as elements, creating a nested or multidimensional list. This allows for the creation of more complex data structures where each element can be a list itself."
      ],
      "metadata": {
        "id": "Q64vBLSkAU0p"
      }
    },
    {
      "cell_type": "code",
      "source": [
        "# Nested lists\n",
        "outer_list = [1, 2, [3, 4, 5], \"apple\", [\"orange\", \"banana\"]]\n",
        "\n",
        "# Accessing elements\n",
        "print(\"Element at index 2:\", outer_list[2])  # Accessing a nested list\n",
        "print(\"Element at index 4:\", outer_list[4][1])  # Accessing an element in a nested list\n",
        "\n",
        "# Modifying the list\n",
        "outer_list[0] = 10  # Modifying an integer in the outer list\n",
        "outer_list[2][1] = 8  # Modifying an element in the nested list\n",
        "outer_list.append([\"grape\", \"kiwi\"])  # Adding a new nested list\n",
        "print(\"Modified list:\", outer_list)"
      ],
      "metadata": {
        "id": "-jzqYTxSAZZV"
      },
      "execution_count": null,
      "outputs": []
    },
    {
      "cell_type": "markdown",
      "source": [
        "In this example:\n",
        "- `outer_list` is a list containing elements of various types, including nested lists.\n",
        "- Elements can be accessed and modified, whether they are in the outer list or nested within another list.\n",
        "- The `append` method is used to add a new nested list (`[\"grape\", \"kiwi\"]`) to the end of the outer list.\n",
        "\n",
        "The ability to nest lists provides a powerful way to structure and organize data in Python."
      ],
      "metadata": {
        "id": "NwMMB6qGAbjS"
      }
    },
    {
      "cell_type": "markdown",
      "source": [
        "#### **Manipulating Matrices with Nested Lists**"
      ],
      "metadata": {
        "id": "K-HnTHvvApXi"
      }
    },
    {
      "cell_type": "markdown",
      "source": [
        "The ability to use nested lists in Python is highly beneficial when working with matrices or multidimensional arrays. Matrices can be represented as lists of lists, where each inner list corresponds to a row or column.\n",
        "\n",
        "![image](https://qph.cf2.quoracdn.net/main-qimg-8a42228263b908bec0de477a66c0f83e)"
      ],
      "metadata": {
        "id": "l1vIkgj2AtVB"
      }
    },
    {
      "cell_type": "code",
      "source": [
        "# Matrix represented using nested lists\n",
        "matrix = [\n",
        "    [1, 2, 3],\n",
        "    [4, 5, 6],\n",
        "    [7, 8, 9]\n",
        "]\n",
        "\n",
        "# Accessing elements\n",
        "print(\"Element at row 2, column 3:\", matrix[1][2])\n",
        "\n",
        "# Modifying the matrix\n",
        "matrix[0][1] = 10  # Modifying an element in the matrix\n",
        "matrix[2].append(10)  # Adding a new element to the end of the third row\n",
        "print(\"Modified matrix:\", matrix)\n"
      ],
      "metadata": {
        "id": "vsH-ABbhAysL"
      },
      "execution_count": null,
      "outputs": []
    },
    {
      "cell_type": "markdown",
      "source": [
        "In this example:\n",
        "- `matrix` is represented using nested lists, where each inner list corresponds to a row.\n",
        "- Elements can be accessed and modified in a matrix-like fashion.\n",
        "- The `append` method is used to add a new element (`10`) to the end of the third row.\n",
        "\n",
        "This approach simplifies the manipulation and representation of matrices in Python programs."
      ],
      "metadata": {
        "id": "bL799iEGA1j9"
      }
    },
    {
      "cell_type": "markdown",
      "source": [
        "#### **Determining the Length of a List**"
      ],
      "metadata": {
        "id": "edkswH0HBaUg"
      }
    },
    {
      "cell_type": "markdown",
      "source": [
        "In Python, the length of a list is determined by the number of elements it contains. The `len()` function is used to retrieve the length or the number of elements in a list."
      ],
      "metadata": {
        "id": "h3M29NgABg-b"
      }
    },
    {
      "cell_type": "code",
      "source": [
        "# List with elements\n",
        "fruits = [\"apple\", \"banana\", \"orange\", \"grape\"]\n",
        "\n",
        "# Displaying the length of the list\n",
        "length_of_fruits = len(fruits)\n",
        "print(\"Length of the list:\", length_of_fruits)"
      ],
      "metadata": {
        "id": "92tPYXO4BlGx"
      },
      "execution_count": null,
      "outputs": []
    },
    {
      "cell_type": "markdown",
      "source": [
        "In this example:\n",
        "- The list `fruits` contains four elements.\n",
        "- The `len()` function is used to determine the length of the list.\n",
        "- The result is displayed using the `print` statement.\n",
        "\n",
        "The `len()` function is a useful tool for obtaining information about the size of a list in Python."
      ],
      "metadata": {
        "id": "_LXXtR0MBnJr"
      }
    },
    {
      "cell_type": "markdown",
      "source": [
        "#### **Irregular Nested Lists**"
      ],
      "metadata": {
        "id": "rdqrv8P3BHQs"
      }
    },
    {
      "cell_type": "markdown",
      "source": [
        "In Python, nested lists are not restricted to having a perfect matrix-like structure. Lists can contain other lists of different sizes and even elements of different types. This flexibility allows the creation of irregular or jagged nested lists."
      ],
      "metadata": {
        "id": "RVJ8ciFdBL05"
      }
    },
    {
      "cell_type": "code",
      "source": [
        "# Irregular nested list\n",
        "irregular_list = [1, [2, 3], [4, 5, 6], \"apple\", [\"orange\", 8, 9]]\n",
        "\n",
        "# Accessing elements\n",
        "print(\"Element at index 2:\", irregular_list[2])  # Accessing a nested list\n",
        "print(\"Element at index 4, element 1:\", irregular_list[4][0])  # Accessing an element in a nested list\n",
        "\n",
        "# Modifying the list\n",
        "irregular_list[0] = 10  # Modifying an integer\n",
        "irregular_list[2][1] = 7  # Modifying an element in the nested list\n",
        "irregular_list.append([\"grape\", 10, \"kiwi\"])  # Adding a new nested list\n",
        "print(\"Modified list:\", irregular_list)"
      ],
      "metadata": {
        "id": "eCJ8UJ4-BPd1"
      },
      "execution_count": null,
      "outputs": []
    },
    {
      "cell_type": "markdown",
      "source": [
        "In this example:\n",
        "- `irregular_list` is a nested list with irregular sizes and different types of elements.\n",
        "- Elements can be accessed and modified, regardless of the structure.\n",
        "- The `append` method is used to add a new nested list (`[\"grape\", 10, \"kiwi\"]`) to the end of the list.\n",
        "\n",
        "This flexibility allows for the creation of more complex and diverse data structures in Python."
      ],
      "metadata": {
        "id": "sNwOy_9YBRtb"
      }
    },
    {
      "cell_type": "markdown",
      "source": [
        "#### **List Indexing and Slicing**"
      ],
      "metadata": {
        "id": "F7J33fMYB7kK"
      }
    },
    {
      "cell_type": "markdown",
      "source": [
        "**Indexing:**\n",
        "- Indexing in Python lists starts from 0. Each element in the list has a unique index.\n",
        "- Positive indexing refers to counting from the beginning of the list (starting with 0).\n",
        "- Negative indexing refers to counting from the end of the list (starting with -1 for the last element).\n",
        "\n",
        "**Slicing:**\n",
        "- Slicing allows extracting a portion of a list, creating a new list.\n",
        "- The syntax for slicing is `list[start:stop:step]`, where `start` is the beginning index, `stop` is the ending index (exclusive), and `step` is the interval."
      ],
      "metadata": {
        "id": "xKqMNQIjCAHd"
      }
    },
    {
      "cell_type": "code",
      "source": [
        "# List for indexing and slicing\n",
        "numbers = [0, 1, 2, 3, 4, 5, 6, 7, 8, 9]"
      ],
      "metadata": {
        "id": "S9TsraRbCwCq"
      },
      "execution_count": null,
      "outputs": []
    },
    {
      "cell_type": "code",
      "source": [
        "# Indexing\n",
        "print(\"Element at index 3:\", numbers[3])       # Positive indexing\n",
        "print(\"Element at index -2:\", numbers[-2])     # Negative indexing"
      ],
      "metadata": {
        "id": "xxbu5Wp1CGCN"
      },
      "execution_count": null,
      "outputs": []
    },
    {
      "cell_type": "code",
      "source": [
        "# Slicing\n",
        "print(\"Sliced elements:\", numbers[2:7])        # Elements from index 2 to 6\n",
        "print(\"Sliced with step:\", numbers[1:9:2])     # Elements from index 1 to 8 with a step of 2\n",
        "print(\"Sliced in reverse:\", numbers[::-1])     # All elements in reverse order"
      ],
      "metadata": {
        "id": "-5040031CtKH"
      },
      "execution_count": null,
      "outputs": []
    },
    {
      "cell_type": "markdown",
      "source": [
        "In this example:\n",
        "- Positive and negative indexing are demonstrated.\n",
        "- Slicing is used to extract specific portions of the list.\n",
        "- Different slicing techniques, such as using steps and reversing the list, are shown.\n",
        "\n",
        "Understanding indexing and slicing is crucial for efficient manipulation of data in Python lists."
      ],
      "metadata": {
        "id": "_uhwFnzRCIKN"
      }
    },
    {
      "cell_type": "markdown",
      "source": [
        "#### **Manipulating Elements in a List**"
      ],
      "metadata": {
        "id": "qSRVWARzCW6y"
      }
    },
    {
      "cell_type": "markdown",
      "source": [
        "\n",
        "**Adding Elements:**\n",
        "- Elements can be added to the end of a list using the `append()` method.\n",
        "- Multiple elements can be added at once using the `extend()` method or the `+` operator.\n",
        "\n",
        "**Removing Elements:**\n",
        "- Elements can be removed by specifying the value using the `remove()` method.\n",
        "- The `pop()` method removes and returns the element at a specific index.\n",
        "- The `del` statement can be used to remove elements or slices based on index."
      ],
      "metadata": {
        "id": "EJNKjOt8CZVF"
      }
    },
    {
      "cell_type": "code",
      "source": [
        "# List for manipulation\n",
        "fruits = [\"apple\", \"banana\", \"orange\", \"grape\"]"
      ],
      "metadata": {
        "id": "FipLXCIOCyZo"
      },
      "execution_count": null,
      "outputs": []
    },
    {
      "cell_type": "code",
      "source": [
        "# Adding elements\n",
        "fruits.append(\"kiwi\")                 # Adding a single element\n",
        "fruits.extend([\"melon\", \"pineapple\"])  # Adding multiple elements\n",
        "fruits += [\"peach\", \"mango\"]           # Another way to add multiple elements\n",
        "\n",
        "# Displaying the modified list\n",
        "print(\"List after adding elements:\", fruits)"
      ],
      "metadata": {
        "id": "ukeJUnQlCeA3"
      },
      "execution_count": null,
      "outputs": []
    },
    {
      "cell_type": "code",
      "source": [
        "# Removing elements\n",
        "fruits.remove(\"banana\")        # Removing a specific element\n",
        "removed_element = fruits.pop(2) # Removing and returning element at index 2\n",
        "del fruits[0]                   # Removing element at index 0\n",
        "\n",
        "# Displaying the modified list\n",
        "print(\"List after removing elements:\", fruits)\n",
        "print(\"Removed element:\", removed_element)"
      ],
      "metadata": {
        "id": "aZoB212JCotL"
      },
      "execution_count": null,
      "outputs": []
    },
    {
      "cell_type": "markdown",
      "source": [
        "In this example:\n",
        "- Elements are added using `append()`, `extend()`, and the `+` operator.\n",
        "- Elements are removed using `remove()`, `pop()`, and the `del` statement.\n",
        "\n",
        "These operations allow for dynamic modification of lists in Python."
      ],
      "metadata": {
        "id": "D9wG-KwuCf4t"
      }
    },
    {
      "cell_type": "markdown",
      "source": [
        "#### **Checking Elements in a List**"
      ],
      "metadata": {
        "id": "FYJrGMawC-6y"
      }
    },
    {
      "cell_type": "markdown",
      "source": [
        "**Using `in` and `not in` Operators:**\n",
        "- The `in` operator checks if an element exists in a list.\n",
        "- The `not in` operator checks if an element does not exist in a list.\n",
        "- Both operators return a boolean value."
      ],
      "metadata": {
        "id": "pg_Fqm70DDQL"
      }
    },
    {
      "cell_type": "code",
      "source": [
        "# List for element checks\n",
        "colors = [\"red\", \"blue\", \"green\", \"yellow\", \"orange\"]"
      ],
      "metadata": {
        "id": "HQO1FblYDHIx"
      },
      "execution_count": null,
      "outputs": []
    },
    {
      "cell_type": "code",
      "source": [
        "# Using 'in' operator\n",
        "print(\"Is 'blue' in the list?\", 'blue' in colors)\n",
        "print(\"Is 'purple' in the list?\", 'purple' in colors)"
      ],
      "metadata": {
        "id": "2tgkMyH4DLzL"
      },
      "execution_count": null,
      "outputs": []
    },
    {
      "cell_type": "code",
      "source": [
        "# Using 'not in' operator\n",
        "print(\"Is 'green' not in the list?\", 'green' not in colors)\n",
        "print(\"Is 'yellow' not in the list?\", 'yellow' not in colors)"
      ],
      "metadata": {
        "id": "De_SD-J5DLkr"
      },
      "execution_count": null,
      "outputs": []
    },
    {
      "cell_type": "markdown",
      "source": [
        "In this example:\n",
        "- The `in` operator is used to check if \"blue\" and \"purple\" exist in the list.\n",
        "- The `not in` operator is used to check if \"green\" and \"yellow\" do not exist in the list.\n",
        "\n",
        "These operators are useful for conditional checks and decision-making based on the presence or absence of elements in a list."
      ],
      "metadata": {
        "id": "FDwRxSXjDJjq"
      }
    },
    {
      "cell_type": "markdown",
      "source": [
        "#### **Searching for Elements in a List**"
      ],
      "metadata": {
        "id": "JzdJ8vMEDXPL"
      }
    },
    {
      "cell_type": "markdown",
      "source": [
        "**Using the `index()` Function:**\n",
        "- The `index()` function is used to find the index of a specific element in a list.\n",
        "- If the element is found, the function returns the index of the first occurrence.\n",
        "- If the element is not found, it raises a `ValueError`."
      ],
      "metadata": {
        "id": "lLNrhwpvDaB2"
      }
    },
    {
      "cell_type": "code",
      "source": [
        "# List for searching\n",
        "numbers = [10, 20, 30, 40, 50, 20, 60]\n",
        "\n",
        "# Using 'index()' function\n",
        "index_of_30 = numbers.index(30)\n",
        "print(\"Index of 30:\", index_of_30)\n",
        "\n",
        "# Trying to find the index of a non-existing element\n",
        "try:\n",
        "    index_of_70 = numbers.index(70)\n",
        "    print(\"Index of 70:\", index_of_70)\n",
        "except ValueError:\n",
        "    print(\"Element 70 not found in the list.\")"
      ],
      "metadata": {
        "id": "z9aVoAWIDkOs"
      },
      "execution_count": null,
      "outputs": []
    },
    {
      "cell_type": "markdown",
      "source": [
        "In this example:\n",
        "- The `index()` function is used to find the index of the element \"30\" in the list.\n",
        "- An attempt is made to find the index of the non-existing element \"70,\" resulting in a `ValueError` being caught.\n",
        "\n",
        "The `index()` function is useful for locating the position of a specific element within a list."
      ],
      "metadata": {
        "id": "q_-VmEF5DmfR"
      }
    },
    {
      "cell_type": "markdown",
      "source": [
        "#### **Sorting a List**"
      ],
      "metadata": {
        "id": "2l2Q-_acDxiX"
      }
    },
    {
      "cell_type": "markdown",
      "source": [
        "**Using the `sort()` Method:**\n",
        "- The `sort()` method is used to sort a list in-place, meaning it modifies the original list.\n",
        "- It arranges the elements in ascending order by default.\n",
        "- The `reverse` parameter can be set to `True` to sort in descending order.\n",
        "\n",
        "**Using the `sorted()` Function:**\n",
        "- The `sorted()` function creates a new sorted list from the elements of the original list.\n",
        "- It does not modify the original list.\n",
        "- Like `sort()`, the `reverse` parameter can be used to sort in descending order."
      ],
      "metadata": {
        "id": "4ebn4913D0VW"
      }
    },
    {
      "cell_type": "code",
      "source": [
        "# List for sorting\n",
        "numbers = [40, 10, 30, 20, 50]\n",
        "\n",
        "# Using 'sort()' method\n",
        "numbers.sort()\n",
        "print(\"Sorted list using 'sort()':\", numbers)\n",
        "\n",
        "# Using 'sorted()' function\n",
        "sorted_numbers = sorted(numbers, reverse=True)\n",
        "print(\"Original list:\", numbers)\n",
        "print(\"Sorted list using 'sorted()':\", sorted_numbers)"
      ],
      "metadata": {
        "id": "cgLvy8z9D3LF"
      },
      "execution_count": null,
      "outputs": []
    },
    {
      "cell_type": "markdown",
      "source": [
        "In this example:\n",
        "- The `sort()` method is used to sort the list `numbers` in ascending order.\n",
        "- The `sorted()` function creates a new sorted list (`sorted_numbers`) in descending order without modifying the original list.\n",
        "\n",
        "Both approaches provide a way to organize the elements of a list in a specified order."
      ],
      "metadata": {
        "id": "sdNYxssQD4_P"
      }
    },
    {
      "cell_type": "markdown",
      "source": [
        "#### **Deleting Elements from a List**"
      ],
      "metadata": {
        "id": "pOdZuP4fEDci"
      }
    },
    {
      "cell_type": "markdown",
      "source": [
        "1. **Using the `del` Statement:**\n",
        "   - The `del` statement is used to remove elements from a list based on their index.\n",
        "   - It can also be used to delete the entire list or a slice of the list.\n",
        "\n",
        "2. **Using the `remove()` Method:**\n",
        "   - The `remove()` method is used to remove a specific element from the list.\n",
        "   - If the element appears multiple times, only the first occurrence is removed.\n",
        "   - If the element is not found, it raises a `ValueError`.\n",
        "\n",
        "3. **Using the `clear()` Method:**\n",
        "   - The `clear()` method is used to remove all elements from the list, making it empty."
      ],
      "metadata": {
        "id": "8gZy643UEIdw"
      }
    },
    {
      "cell_type": "code",
      "source": [
        "# List for deletion\n",
        "colors = [\"red\", \"green\", \"blue\", \"yellow\", \"green\"]"
      ],
      "metadata": {
        "id": "UbLRva-iELUS"
      },
      "execution_count": null,
      "outputs": []
    },
    {
      "cell_type": "code",
      "source": [
        "# Using 'del' statement\n",
        "del colors[2]  # Deleting element at index 2\n",
        "print(\"List after 'del' statement:\", colors)"
      ],
      "metadata": {
        "id": "uT67KpO6EU7K"
      },
      "execution_count": null,
      "outputs": []
    },
    {
      "cell_type": "code",
      "source": [
        "# Using 'remove()' method\n",
        "colors.remove(\"green\")  # Removing the first occurrence of \"green\"\n",
        "print(\"List after 'remove()' method:\", colors)"
      ],
      "metadata": {
        "id": "FRZSiib7EWaT"
      },
      "execution_count": null,
      "outputs": []
    },
    {
      "cell_type": "code",
      "source": [
        "# Using 'clear()' method\n",
        "colors.clear()  # Removing all elements\n",
        "print(\"List after 'clear()' method:\", colors)"
      ],
      "metadata": {
        "id": "RSv5EYhAEX3D"
      },
      "execution_count": null,
      "outputs": []
    },
    {
      "cell_type": "markdown",
      "source": [
        "In this example:\n",
        "- The `del` statement is used to delete the element at index 2.\n",
        "- The `remove()` method is used to remove the first occurrence of the element \"green.\"\n",
        "- The `clear()` method is used to remove all elements, resulting in an empty list.\n",
        "\n",
        "These methods provide flexibility for deleting specific elements or clearing the entire list."
      ],
      "metadata": {
        "id": "6LX6Ei4dENRK"
      }
    },
    {
      "cell_type": "markdown",
      "source": [
        "#### **Copying a List**"
      ],
      "metadata": {
        "id": "QfhIxRR1EimW"
      }
    },
    {
      "cell_type": "markdown",
      "source": [
        "**Using the Assignment Operator (`=`):**\n",
        "- The assignment operator (`=`) can be used to create a copy of a list.\n",
        "- Changes made to the copy will affect the original list, and vice versa.\n",
        "\n",
        "**Using the `copy()` Method:**\n",
        "- The `copy()` method is specifically designed for creating a shallow copy of a list.\n",
        "- The copy created using `copy()` is independent of the original list, meaning changes to one do not affect the other.\n",
        "\n"
      ],
      "metadata": {
        "id": "8UhpBdysEn1J"
      }
    },
    {
      "cell_type": "code",
      "source": [
        "# Original list\n",
        "original_list = [1, 2, 3, 4, 5]\n",
        "\n",
        "# Using assignment operator to create a copy\n",
        "copied_list_1 = original_list\n",
        "\n",
        "# Using 'copy()' method to create a copy\n",
        "copied_list_2 = original_list.copy()\n",
        "\n",
        "# Modifying the copied lists\n",
        "copied_list_1[0] = 10\n",
        "copied_list_2[1] = 20\n",
        "\n",
        "# Displaying the results\n",
        "print(\"Original list:\", original_list)\n",
        "print(\"List copied with assignment operator:\", copied_list_1)\n",
        "print(\"List copied with 'copy()' method:\", copied_list_2)"
      ],
      "metadata": {
        "id": "Az4c89KtEqGK"
      },
      "execution_count": null,
      "outputs": []
    },
    {
      "cell_type": "markdown",
      "source": [
        "In this example:\n",
        "- The assignment operator (`=`) is used to create `copied_list_1`, which is a reference to the original list.\n",
        "- The `copy()` method is used to create `copied_list_2`, which is an independent copy of the original list.\n",
        "- Modifying `copied_list_1` affects the original list, while modifying `copied_list_2` does not.\n",
        "\n",
        "Using the `copy()` method is advisable when you want an independent copy of a list to avoid unintended modifications."
      ],
      "metadata": {
        "id": "CvPh1ykNEu6p"
      }
    },
    {
      "cell_type": "markdown",
      "source": [
        "#### **Unpacking a List**"
      ],
      "metadata": {
        "id": "8bRQUxHHE2YP"
      }
    },
    {
      "cell_type": "markdown",
      "source": [
        "Unpacking a list allows you to assign values to multiple variables at once based on the elements of the list."
      ],
      "metadata": {
        "id": "JuuMxcYdE8AU"
      }
    },
    {
      "cell_type": "code",
      "source": [
        "# List for unpacking\n",
        "student_info = [\"John Doe\", 20, \"Computer Science\"]\n",
        "\n",
        "# Unpacking the list into variables\n",
        "name, age, major = student_info\n",
        "\n",
        "# Displaying the unpacked values\n",
        "print(\"Name:\", name)\n",
        "print(\"Age:\", age)\n",
        "print(\"Major:\", major)"
      ],
      "metadata": {
        "id": "uzpNLu4CE-48"
      },
      "execution_count": null,
      "outputs": []
    },
    {
      "cell_type": "markdown",
      "source": [
        "In this example:\n",
        "- The list `student_info` contains information about a student.\n",
        "- The elements of the list are unpacked into variables `name`, `age`, and `major` in a single line.\n",
        "\n",
        "Unpacking is a convenient way to assign values from a list to multiple variables, especially when the number of variables matches the number of elements in the list."
      ],
      "metadata": {
        "id": "V0FHRtQmFBGF"
      }
    },
    {
      "cell_type": "markdown",
      "source": [
        "### **Tuple**"
      ],
      "metadata": {
        "id": "9yM53WTm8_K4"
      }
    },
    {
      "cell_type": "markdown",
      "source": [
        "A tuple is created by providing identifiers and data, with each data separated by a comma (`,`). The tuple can be enclosed in parentheses `()` for readability, although it's not mandatory.\n",
        "\n",
        "Key characteristics of tuples:\n",
        "- Immutable: Once a tuple is created, its elements cannot be changed or added.\n",
        "- Ordered: Elements in a tuple maintain the order of insertion.\n",
        "- Allows elements of different data types.\n",
        "- Can be nested, allowing the creation of more complex data structures.\n",
        "\n",
        "Tuples are commonly used when you want to represent a collection of items that should remain constant throughout the program."
      ],
      "metadata": {
        "id": "XY6h15jtP7DQ"
      }
    },
    {
      "cell_type": "markdown",
      "source": [
        "#### **Example**"
      ],
      "metadata": {
        "id": "6bz-Ik5YQIEg"
      }
    },
    {
      "cell_type": "code",
      "source": [
        "# Creating tuples\n",
        "fruits = 'apple', 'orange', 'banana', 'grape'\n",
        "numbers = 5, 10, 15, 20\n",
        "decimal_numbers = (2.5, -1.8, 4.7, 0.3)\n",
        "conditions = (False, True, True, False)\n",
        "\n",
        "# Displaying tuples\n",
        "print(fruits)\n",
        "print(numbers)\n",
        "print(decimal_numbers)\n",
        "print(conditions)"
      ],
      "metadata": {
        "id": "69dA6cSpP-X6"
      },
      "execution_count": null,
      "outputs": []
    },
    {
      "cell_type": "code",
      "source": [
        "# Checking the type of 'fruits'\n",
        "type(fruits)"
      ],
      "metadata": {
        "id": "7qmaEyJJQuFN"
      },
      "execution_count": null,
      "outputs": []
    },
    {
      "cell_type": "markdown",
      "source": [
        "In this example:\n",
        "- `fruits` is a tuple of strings representing different fruits.\n",
        "- `numbers` is a tuple of integers.\n",
        "- `decimal_numbers` is a tuple of floating-point numbers.\n",
        "- `conditions` is a tuple of boolean values.\n",
        "\n",
        "The `type()` function is used to check the type of the `fruits` tuple, confirming that it is indeed a tuple. Tuples can hold a variety of data types and are flexible in their usage."
      ],
      "metadata": {
        "id": "wjMqwztfQZBQ"
      }
    },
    {
      "cell_type": "markdown",
      "source": [
        "#### **Tuple with Heterogeneous Elements and Nested Tuple**"
      ],
      "metadata": {
        "id": "W6SarcxAQ7sp"
      }
    },
    {
      "cell_type": "markdown",
      "source": [
        "Tuples in Python can contain elements of different data types, and they can also include other tuples."
      ],
      "metadata": {
        "id": "FvgpYu5fQ99w"
      }
    },
    {
      "cell_type": "code",
      "source": [
        "# Tuple with heterogeneous elements\n",
        "mixed_tuple = (1, \"two\", 3.0, True)\n",
        "\n",
        "# Nested tuple\n",
        "nested_tuple = ((1, 2), (\"a\", \"b\"))\n",
        "\n",
        "# Displaying tuples\n",
        "print(\"Mixed tuple:\", mixed_tuple)\n",
        "print(\"Nested tuple:\", nested_tuple)"
      ],
      "metadata": {
        "id": "KS_1QnseRBi7"
      },
      "execution_count": null,
      "outputs": []
    },
    {
      "cell_type": "markdown",
      "source": [
        "In this example:\n",
        "- `mixed_tuple` is a tuple that includes elements of different data types (integer, string, float, boolean).\n",
        "- `nested_tuple` is a tuple containing other tuples as its elements.\n",
        "\n",
        "Tuples, with their flexibility, allow for the creation of more complex data structures and can be used to represent a wide range of scenarios in programming."
      ],
      "metadata": {
        "id": "W-n8Ilg5RDdH"
      }
    },
    {
      "cell_type": "markdown",
      "source": [
        "#### **Converting List to Tuple and Vice Versa**"
      ],
      "metadata": {
        "id": "ylHijSKXRM7i"
      }
    },
    {
      "cell_type": "markdown",
      "source": [
        "A list can be converted to a tuple using the `tuple()` function, and similarly, a tuple can be converted to a list using the `list()` function."
      ],
      "metadata": {
        "id": "5z9od7dPRPs2"
      }
    },
    {
      "cell_type": "code",
      "source": [
        "# Converting list to tuple\n",
        "numbers_list = [1, 2, 3, 4, 5]\n",
        "numbers_tuple = tuple(numbers_list)\n",
        "\n",
        "# Converting tuple to list\n",
        "fruits_tuple = ('apple', 'orange', 'banana', 'grape')\n",
        "fruits_list = list(fruits_tuple)\n",
        "\n",
        "# Displaying the results\n",
        "print(\"List to Tuple:\", numbers_tuple)\n",
        "print(\"Tuple to List:\", fruits_list)"
      ],
      "metadata": {
        "id": "e-DtqTrORTVp"
      },
      "execution_count": null,
      "outputs": []
    },
    {
      "cell_type": "markdown",
      "source": [
        "In this example:\n",
        "- `numbers_list` is a list of integers, and it is converted to a tuple named `numbers_tuple`.\n",
        "- `fruits_tuple` is a tuple of strings, and it is converted to a list named `fruits_list`.\n",
        "\n",
        "These conversions are useful when you need to switch between lists and tuples based on the requirements of your program."
      ],
      "metadata": {
        "id": "wT4kYKHJRVMG"
      }
    },
    {
      "cell_type": "markdown",
      "source": [
        "#### **Tuple Indexing & Slicing**"
      ],
      "metadata": {
        "id": "Ey1o21AYReDv"
      }
    },
    {
      "cell_type": "markdown",
      "source": [
        "**Tuple Indexing & Slicing:**\n",
        "\n",
        "Indexing and slicing in tuples work similarly to lists. Elements in a tuple can be accessed using their index, and slices can be taken to obtain sub-tuples."
      ],
      "metadata": {
        "id": "CDqZo9AdRglU"
      }
    },
    {
      "cell_type": "code",
      "source": [
        "# Tuple for indexing and slicing\n",
        "colors_tuple = (\"red\", \"green\", \"blue\", \"yellow\", \"purple\")\n",
        "\n",
        "# Indexing\n",
        "first_color = colors_tuple[0]\n",
        "last_color = colors_tuple[-1]\n",
        "\n",
        "# Slicing\n",
        "selected_colors = colors_tuple[1:4]  # Elements at index 1, 2, 3\n",
        "\n",
        "# Displaying the results\n",
        "print(\"First color:\", first_color)\n",
        "print(\"Last color:\", last_color)\n",
        "print(\"Selected colors:\", selected_colors)"
      ],
      "metadata": {
        "id": "bwt3zA8-RjTx"
      },
      "execution_count": null,
      "outputs": []
    },
    {
      "cell_type": "markdown",
      "source": [
        "In this example:\n",
        "- `colors_tuple` is a tuple of strings.\n",
        "- Indexing is used to access the first and last elements of the tuple.\n",
        "- Slicing is used to create a sub-tuple containing elements from index 1 to 3 (inclusive).\n",
        "\n",
        "Just like lists, tuples support indexing and slicing operations, making it easy to retrieve specific elements or create sub-tuples."
      ],
      "metadata": {
        "id": "MchNngMFRlWK"
      }
    },
    {
      "cell_type": "markdown",
      "source": [
        "#### **Tuple Manipulation**"
      ],
      "metadata": {
        "id": "84CpdtvnSClJ"
      }
    },
    {
      "cell_type": "code",
      "source": [
        "# Original tuple\n",
        "colors_tuple = (\"red\", \"green\", \"blue\", \"yellow\", \"purple\")\n",
        "\n",
        "# Attempting to modify an element (not possible, will raise a TypeError)\n",
        "# colors_tuple[1] = \"orange\"  # Uncommenting this line will raise a TypeError\n",
        "\n",
        "# Attempting to add an element (not possible, will raise a TypeError)\n",
        "# colors_tuple += (\"orange\",)  # Uncommenting this line will raise a TypeError\n",
        "\n",
        "# Attempting to delete an element (not possible, will raise a TypeError)\n",
        "# del colors_tuple[2]  # Uncommenting this line will raise a TypeError\n",
        "\n",
        "# Creating a new tuple with modifications\n",
        "modified_colors_tuple = colors_tuple + (\"orange\", \"pink\")\n",
        "\n",
        "# Displaying the results\n",
        "print(\"Original tuple:\", colors_tuple)\n",
        "print(\"Modified tuple:\", modified_colors_tuple)"
      ],
      "metadata": {
        "id": "KYnhn1AYSLKc"
      },
      "execution_count": null,
      "outputs": []
    },
    {
      "cell_type": "markdown",
      "source": [
        "\n",
        "\n",
        "As demonstrated in the example, attempting to directly modify, add, or delete elements in a tuple will result in a `TypeError` due to the immutability of tuples.\n",
        "\n",
        "However, you can create a new tuple by combining or concatenating existing tuples with the desired modifications. This approach preserves the original tuple while providing the updated version as a new tuple."
      ],
      "metadata": {
        "id": "OKzvP2yeSG4P"
      }
    },
    {
      "cell_type": "markdown",
      "source": [
        "### Set"
      ],
      "metadata": {
        "id": "zTmEiOkeeRNC"
      }
    },
    {
      "cell_type": "markdown",
      "source": [
        "The major advantage of using a set, as opposed to a list, is that it has a highly optimized method for checking whether a specific element is contained in the set. This is based on a data structure known as a hash table. Since sets are unordered, we cannot access items using indexes as we do in lists.\n",
        "* Set are represented by { }\n",
        "* Sets are unordered, so you cannot be sure in which order the items will appear.\n",
        "* Set items are unchangeable, but you can remove items and add new items.\n",
        "* Duplicates Not Allowed\n",
        "\n"
      ],
      "metadata": {
        "id": "CG4LwrNJinEg"
      }
    },
    {
      "cell_type": "code",
      "source": [
        "# Define empty set\n",
        "\n",
        "# Dont do this\n",
        "learning_path = {}\n",
        "print(type(learning_path))\n",
        "\n",
        "learning_path = set()\n",
        "print(type(learning_path))"
      ],
      "metadata": {
        "id": "J4tVQqk6V5uw"
      },
      "execution_count": null,
      "outputs": []
    },
    {
      "cell_type": "code",
      "source": [
        "learning_path = {\"Machine Learning\",\n",
        "                 \"Cloud Computing\",\n",
        "                 \"Mobile Development\"}\n",
        "\n",
        "print(learning_path)\n",
        "\n",
        "# Adding elements\n",
        "learning_path.add(\"Data Scientist\")\n",
        "print(learning_path)"
      ],
      "metadata": {
        "id": "yrg52n5aeTR3"
      },
      "execution_count": null,
      "outputs": []
    },
    {
      "cell_type": "markdown",
      "source": [
        "**Union operation on Python Sets**\n",
        "\n",
        "Two sets can be merged using union() function or | operator. Both Hash Table values are accessed and traversed with merge operation perform on them to combine the elements, at the same time duplicates are removed."
      ],
      "metadata": {
        "id": "rSCRY94wmexj"
      }
    },
    {
      "cell_type": "code",
      "source": [
        "learning_path = {\"Machine Learning\",\n",
        "                 \"Cloud Computing\",\n",
        "                 \"Mobile Development\"}\n",
        "job = {\"DevOps\",\n",
        "        \"Machine Learning\",\n",
        "        \"Fullstack Website\"}\n",
        "\n",
        "skills = learning_path.union(job)\n",
        "\n",
        "print(\"Union using union() function\")\n",
        "print(skills)\n",
        "\n",
        "skills = learning_path|job\n",
        "\n",
        "print(\"\\nUnion using '|' operator\")\n",
        "print(skills)"
      ],
      "metadata": {
        "id": "p3TTJyHnmjrU"
      },
      "execution_count": null,
      "outputs": []
    },
    {
      "cell_type": "markdown",
      "source": [
        "**Intersection operation on Python Sets**"
      ],
      "metadata": {
        "id": "ayxYNVTfkzg5"
      }
    },
    {
      "cell_type": "code",
      "source": [
        "\n",
        "# Intersection using\n",
        "# intersection() function\n",
        "match_job = learning_path.intersection(job)\n",
        "\n",
        "print(\"Intersection using intersection() function\")\n",
        "print(match_job)\n",
        "\n",
        "# Intersection using\n",
        "# \"&\" operator\n",
        "match_job = learning_path & job\n",
        "\n",
        "print(\"\\nIntersection using '&' operator\")\n",
        "print(match_job)"
      ],
      "metadata": {
        "id": "SAVQ5SYhoR7x"
      },
      "execution_count": null,
      "outputs": []
    },
    {
      "cell_type": "markdown",
      "source": [
        "**Finding Differences of Sets in Python**"
      ],
      "metadata": {
        "id": "Te8NyhYSozrF"
      }
    },
    {
      "cell_type": "code",
      "source": [
        "# Difference of two sets\n",
        "# using difference() function\n",
        "learning = learning_path.difference(job)\n",
        "\n",
        "print(\" Difference of two sets using difference() function\")\n",
        "print(learning)\n",
        "\n",
        "# Difference of two sets\n",
        "# using '-' operator\n",
        "learning = learning_path - job\n",
        "\n",
        "print(\"\\nDifference of two sets using '-' operator\")\n",
        "print(learning)"
      ],
      "metadata": {
        "id": "79M6EeHYo1bS"
      },
      "execution_count": null,
      "outputs": []
    },
    {
      "cell_type": "markdown",
      "source": [
        "**Clearing Python Sets**"
      ],
      "metadata": {
        "id": "XxjroyFIpFS3"
      }
    },
    {
      "cell_type": "code",
      "source": [
        "print(\"Initial set\")\n",
        "print(learning_path)\n",
        "\n",
        "# This method will remove\n",
        "# all the elements of the set\n",
        "learning_path.clear()\n",
        "\n",
        "print(\"\\nSet after using clear() function\")\n",
        "print(learning_path)"
      ],
      "metadata": {
        "id": "qJtI29M_pGkH"
      },
      "execution_count": null,
      "outputs": []
    },
    {
      "cell_type": "markdown",
      "source": [
        "### Dictionary"
      ],
      "metadata": {
        "id": "gnNmFBUX9Cxv"
      }
    },
    {
      "cell_type": "markdown",
      "source": [
        "A dictionary in Python is a collection of key-value pairs, where each key must be unique. Dictionaries are defined using curly braces `{}` and consist of comma-separated key-value pairs.\n",
        "\n",
        "\n",
        "Key Characteristics of Dictionaries:\n",
        "\n",
        "- Unordered: Elements in a dictionary have no specific order.\n",
        "- Mutable: Elements of a dictionary can be added, modified, or removed after the dictionary is created.\n",
        "- Key-Value Pairs: Each element in a dictionary is a key-value pair."
      ],
      "metadata": {
        "id": "x0-37VDMUsiZ"
      }
    },
    {
      "cell_type": "markdown",
      "source": [
        "#### **Example**"
      ],
      "metadata": {
        "id": "aDCEje8DUzw_"
      }
    },
    {
      "cell_type": "code",
      "source": [
        "# Creating a dictionary\n",
        "fruit_prices = {\"apple\": 1.00, \"orange\": 0.80, \"banana\": 0.50}\n",
        "\n",
        "# Displaying the dictionary\n",
        "print(\"Fruit Prices:\", fruit_prices)"
      ],
      "metadata": {
        "id": "HNHst3LwUwPx"
      },
      "execution_count": null,
      "outputs": []
    },
    {
      "cell_type": "markdown",
      "source": [
        "In this example:\n",
        "- `fruit_prices` is a dictionary with fruit names as keys and their corresponding prices as values.\n"
      ],
      "metadata": {
        "id": "ey4uykpbU5Yi"
      }
    },
    {
      "cell_type": "markdown",
      "source": [
        "#### **Common Dictionary Operations**"
      ],
      "metadata": {
        "id": "xh38sG5CVXJT"
      }
    },
    {
      "cell_type": "markdown",
      "source": [
        "- Accessing values: `dictionary[key]`\n",
        "- Adding a new key-value pair: `dictionary[key] = value`\n",
        "- Modifying a value: `dictionary[key] = new_value`\n",
        "- Removing a key-value pair: `del dictionary[key]`\n",
        "- Checking key existence: `key in dictionary`"
      ],
      "metadata": {
        "id": "WZTHp0WxVZzO"
      }
    },
    {
      "cell_type": "code",
      "source": [
        "# Dictionary operations\n",
        "student_info = {\"name\": \"John\",\n",
        "                \"age\": 20,\n",
        "                \"grade\": \"A\"}"
      ],
      "metadata": {
        "id": "mTHEb-RBVJa2"
      },
      "execution_count": null,
      "outputs": []
    },
    {
      "cell_type": "code",
      "source": [
        "# Accessing values\n",
        "name = student_info[\"name\"]\n",
        "print(\"Name:\", name)"
      ],
      "metadata": {
        "id": "_OZVYpHEVudK"
      },
      "execution_count": null,
      "outputs": []
    },
    {
      "cell_type": "code",
      "source": [
        "# Adding a new key-value pair\n",
        "student_info[\"city\"] = \"New York\"\n",
        "print(student_info)"
      ],
      "metadata": {
        "id": "aG6JdAqKVwPQ"
      },
      "execution_count": null,
      "outputs": []
    },
    {
      "cell_type": "code",
      "source": [
        "# Modifying a value\n",
        "student_info[\"age\"] = 21\n",
        "print(student_info)"
      ],
      "metadata": {
        "id": "tPNrmdiXVzf_"
      },
      "execution_count": null,
      "outputs": []
    },
    {
      "cell_type": "code",
      "source": [
        "# Removing a key-value pair\n",
        "del student_info[\"grade\"]\n",
        "print(student_info)"
      ],
      "metadata": {
        "id": "--2zSTSzV7jB"
      },
      "execution_count": null,
      "outputs": []
    },
    {
      "cell_type": "code",
      "source": [
        "# Checking key existence\n",
        "has_grade = \"grade\" in student_info\n",
        "print(\"Has grade key?\", has_grade)"
      ],
      "metadata": {
        "id": "LG4DyCaUV_De"
      },
      "execution_count": null,
      "outputs": []
    },
    {
      "cell_type": "code",
      "source": [
        "# Displaying the updated dictionary\n",
        "print(\"Updated Student Info:\", student_info)"
      ],
      "metadata": {
        "id": "2ksPev0IWAuL"
      },
      "execution_count": null,
      "outputs": []
    },
    {
      "cell_type": "markdown",
      "source": [
        "In this dictionary operations example:\n",
        "- Accessing values is done using square brackets and the key.\n",
        "- Adding, modifying, and removing key-value pairs are demonstrated.\n",
        "- Checking key existence is done using the `in` operator.\n",
        "\n",
        "Dictionaries are versatile and widely used in Python for storing and manipulating data with a key-based structure."
      ],
      "metadata": {
        "id": "1onHU4oqVPqK"
      }
    },
    {
      "cell_type": "markdown",
      "source": [
        "#### **Dictionary with Homogeneous Data**"
      ],
      "metadata": {
        "id": "38m3hL_0Wqkw"
      }
    },
    {
      "cell_type": "code",
      "source": [
        "# Dictionary with homogeneous data (mixed types)\n",
        "person_info = {\n",
        "    \"name\": \"John Doe\",\n",
        "    \"age\": 30,\n",
        "    \"address\": {\n",
        "        \"street\": \"123 Main St\",\n",
        "        \"city\": \"Anytown\",\n",
        "        \"zipcode\": \"12345\"\n",
        "    },\n",
        "    \"contacts\": {\n",
        "        \"email\": \"john@example.com\",\n",
        "        \"phone\": {\n",
        "            \"home\": \"555-1234\",\n",
        "            \"work\": \"555-5678\"\n",
        "        }\n",
        "    },\n",
        "    \"is_student\": False\n",
        "}\n",
        "\n",
        "# Displaying the complex dictionary with homogeneous data\n",
        "print(\"Person Information:\")\n",
        "print(\"Name:\", person_info[\"name\"])\n",
        "print(\"Age:\", person_info[\"age\"])\n",
        "print(\"Address:\", person_info[\"address\"])\n",
        "print(\"Email:\", person_info[\"contacts\"][\"email\"])\n",
        "print(\"Home Phone:\", person_info[\"contacts\"][\"phone\"][\"home\"])\n",
        "print(\"Is Student?\", person_info[\"is_student\"])\n"
      ],
      "metadata": {
        "id": "HVa_ketaWkXw"
      },
      "execution_count": null,
      "outputs": []
    },
    {
      "cell_type": "markdown",
      "source": [
        "In this example, `person_info` is a dictionary that includes various homogeneous data types. It contains strings, integers, nested dictionaries, and a boolean value. The structure allows for storing information about a person, including their name, age, address, contacts, and student status. The nested structure demonstrates how dictionaries can be used to organize and represent complex data."
      ],
      "metadata": {
        "id": "xnPXpzWjWvOq"
      }
    },
    {
      "cell_type": "markdown",
      "source": [
        "#### **Using keys`()`, values`()`, and items`()` Functions in a Dictionary**"
      ],
      "metadata": {
        "id": "0LtpMSriW-ge"
      }
    },
    {
      "cell_type": "markdown",
      "source": [
        "**Using keys`()`, values`()`, and items`()` Functions in a Dictionary:**\n",
        "\n",
        "To examine data within a dictionary, we can use the functions `keys()`, `values()`, and `items()`.\n",
        "\n",
        "- `keys()`: Used to retrieve all keys in the dictionary.\n",
        "- `values()`: Used to retrieve all values (items) in the dictionary.\n",
        "- `items()`: Used to retrieve all key-value pairs in the dictionary."
      ],
      "metadata": {
        "id": "ThF8E-ugXE_c"
      }
    },
    {
      "cell_type": "code",
      "source": [
        "# Sample dictionary\n",
        "person_info = {\n",
        "    \"name\": \"John Doe\",\n",
        "    \"age\": 30,\n",
        "    \"address\": {\n",
        "        \"street\": \"123 Main St\",\n",
        "        \"city\": \"Anytown\",\n",
        "        \"zipcode\": \"12345\"\n",
        "    },\n",
        "    \"contacts\": {\n",
        "        \"email\": \"john@example.com\",\n",
        "        \"phone\": {\n",
        "            \"home\": \"555-1234\",\n",
        "            \"work\": \"555-5678\"\n",
        "        }\n",
        "    },\n",
        "    \"is_student\": False\n",
        "}"
      ],
      "metadata": {
        "id": "45BOXXKdXHdi"
      },
      "execution_count": null,
      "outputs": []
    },
    {
      "cell_type": "code",
      "source": [
        "# Using keys() to get all keys\n",
        "keys_list = person_info.keys()\n",
        "print(\"Keys:\", keys_list)"
      ],
      "metadata": {
        "id": "Q_jWefL0XOFI"
      },
      "execution_count": null,
      "outputs": []
    },
    {
      "cell_type": "code",
      "source": [
        "# Using values() to get all values\n",
        "values_list = person_info.values()\n",
        "print(\"Values:\", values_list)"
      ],
      "metadata": {
        "id": "K9i0TBMVXPZA"
      },
      "execution_count": null,
      "outputs": []
    },
    {
      "cell_type": "code",
      "source": [
        "# Using items() to get all key-value pairs\n",
        "items_list = person_info.items()\n",
        "print(\"Items:\", items_list)"
      ],
      "metadata": {
        "id": "7vnV0xdOXQpv"
      },
      "execution_count": null,
      "outputs": []
    },
    {
      "cell_type": "markdown",
      "source": [
        "In this example, `keys_list` will contain all keys in the dictionary, `values_list` will contain all values, and `items_list` will contain all key-value pairs in the dictionary. Using these functions is useful to easily inspect the structure and content of a dictionary."
      ],
      "metadata": {
        "id": "21nxPrg4XLnW"
      }
    },
    {
      "cell_type": "markdown",
      "source": [
        "#### **Accessing Dictionary Values**"
      ],
      "metadata": {
        "id": "rnpdbxHmXeeS"
      }
    },
    {
      "cell_type": "markdown",
      "source": [
        "The `in` and `not in` operators can be used to check whether a specific key or value exists in a dictionary or not."
      ],
      "metadata": {
        "id": "bGfF_MYWXj8S"
      }
    },
    {
      "cell_type": "code",
      "source": [
        "# Sample dictionary\n",
        "fruit_prices = {\"apple\": 1.00, \"orange\": 0.80, \"banana\": 0.50, \"kiwi\": 1.20}"
      ],
      "metadata": {
        "id": "N6mvRxgUXmMG"
      },
      "execution_count": null,
      "outputs": []
    },
    {
      "cell_type": "code",
      "source": [
        "# Using in to check if a key exists\n",
        "has_banana = \"banana\" in fruit_prices\n",
        "print(\"Has Banana Key?\", has_banana)"
      ],
      "metadata": {
        "id": "hSDbEutcXtMe"
      },
      "execution_count": null,
      "outputs": []
    },
    {
      "cell_type": "code",
      "source": [
        "# Using not in to check if a key doesn't exist\n",
        "has_grape = \"grape\" not in fruit_prices\n",
        "print(\"Has Grape Key?\", has_grape)"
      ],
      "metadata": {
        "id": "rldHAVHdXuxl"
      },
      "execution_count": null,
      "outputs": []
    },
    {
      "cell_type": "code",
      "source": [
        "# Using in to check if a value exists\n",
        "has_price_80 = 0.80 in fruit_prices.values()\n",
        "print(\"Has Price 0.80?\", has_price_80)"
      ],
      "metadata": {
        "id": "JFO1m-QaXwHs"
      },
      "execution_count": null,
      "outputs": []
    },
    {
      "cell_type": "code",
      "source": [
        "# Using not in to check if a value doesn't exist\n",
        "has_price_1 = 1.00 not in fruit_prices.values()\n",
        "print(\"Has Price 1.00?\", has_price_1)"
      ],
      "metadata": {
        "id": "4imLzLLeXxYc"
      },
      "execution_count": null,
      "outputs": []
    },
    {
      "cell_type": "markdown",
      "source": [
        "In this example:\n",
        "- `has_banana` checks whether the key \"banana\" exists in the dictionary.\n",
        "- `has_grape` checks whether the key \"grape\" does not exist in the dictionary.\n",
        "- `has_price_80` checks whether the value 0.80 exists in the dictionary values.\n",
        "- `has_price_1` checks whether the value 1.00 does not exist in the dictionary values.\n",
        "\n",
        "These operators are useful for conditional checks when working with dictionaries to ensure that keys or values are present or absent as needed."
      ],
      "metadata": {
        "id": "G772BqBqXo6e"
      }
    },
    {
      "cell_type": "markdown",
      "source": [
        "#### **Accessing Dictionary Values by Key**"
      ],
      "metadata": {
        "id": "cx_GS_ZKX5uf"
      }
    },
    {
      "cell_type": "markdown",
      "source": [
        "\n",
        "Similar to lists, accessing values (items) in a dictionary can be done using an index. However, dictionaries use keys as indices.\n",
        "\n",
        "To access a value in a dictionary, simply mention the key within square brackets `[]`."
      ],
      "metadata": {
        "id": "n7fMSX60X8Ce"
      }
    },
    {
      "cell_type": "code",
      "source": [
        "# Sample dictionary\n",
        "fruit_prices = {\"apple\": 1.00, \"orange\": 0.80, \"banana\": 0.50, \"kiwi\": 1.20}"
      ],
      "metadata": {
        "id": "OMMZ8iZfYJgC"
      },
      "execution_count": null,
      "outputs": []
    },
    {
      "cell_type": "code",
      "source": [
        "# Accessing values by key\n",
        "apple_price = fruit_prices[\"apple\"]\n",
        "banana_price = fruit_prices[\"banana\"]"
      ],
      "metadata": {
        "id": "OBB6FxQaX_Hi"
      },
      "execution_count": null,
      "outputs": []
    },
    {
      "cell_type": "code",
      "source": [
        "# Displaying the accessed values\n",
        "print(\"Price of Apple:\", apple_price)\n",
        "print(\"Price of Banana:\", banana_price)"
      ],
      "metadata": {
        "id": "ilPkUVr0YH2J"
      },
      "execution_count": null,
      "outputs": []
    },
    {
      "cell_type": "markdown",
      "source": [
        "In this example:\n",
        "- `apple_price` is obtained by accessing the value associated with the key \"apple\".\n",
        "- `banana_price` is obtained by accessing the value associated with the key \"banana\".\n",
        "- The accessed values are then displayed.\n",
        "\n",
        "Using keys for indexing allows for efficient and direct access to values in a dictionary."
      ],
      "metadata": {
        "id": "jMi58vkcYB1K"
      }
    },
    {
      "cell_type": "markdown",
      "source": [
        "#### **Manipulating Data in a Dictionary**"
      ],
      "metadata": {
        "id": "Q9mktYA0Zrw8"
      }
    },
    {
      "cell_type": "markdown",
      "source": [
        "Data in a dictionary can be added by providing new key-value pairs to the dictionary.\n",
        "\n",
        "There are three methods that can be used to remove specific data from the dictionary:\n",
        "\n",
        "1. **`del`**: Used to delete an element based on the key.\n",
        "2. **`pop()`**: Used to delete an element based on the key and returns the deleted value.\n",
        "3. **`clear()`**: Used to delete all elements in the dictionary."
      ],
      "metadata": {
        "id": "ErRj0NjaZvwC"
      }
    },
    {
      "cell_type": "code",
      "source": [
        "# Sample dictionary\n",
        "student_info = {\"name\": \"Alice\", \"age\": 25, \"grade\": \"B\", \"is_student\": True}"
      ],
      "metadata": {
        "id": "YpYbvOGbZyQm"
      },
      "execution_count": null,
      "outputs": []
    },
    {
      "cell_type": "code",
      "source": [
        "# Adding a new key-value pair\n",
        "student_info[\"city\"] = \"Wonderland\"\n",
        "print(student_info)"
      ],
      "metadata": {
        "id": "MWxTFpGGZ3rz"
      },
      "execution_count": null,
      "outputs": []
    },
    {
      "cell_type": "code",
      "source": [
        "# Deleting an element using del\n",
        "del student_info[\"grade\"]\n",
        "print(\"After Deletion (del):\", student_info)"
      ],
      "metadata": {
        "id": "jW7CwypJZ_tY"
      },
      "execution_count": null,
      "outputs": []
    },
    {
      "cell_type": "code",
      "source": [
        "# Deleting and returning a value using pop()\n",
        "removed_age = student_info.pop(\"age\")\n",
        "print(\"Removed Age (pop()):\", removed_age)\n",
        "print(\"After Deletion (pop()):\", student_info)"
      ],
      "metadata": {
        "id": "I5pOJJdBaBDV"
      },
      "execution_count": null,
      "outputs": []
    },
    {
      "cell_type": "code",
      "source": [
        "# Clearing all elements using clear()\n",
        "student_info.clear()\n",
        "print(\"After Clearing (clear()):\", student_info)"
      ],
      "metadata": {
        "id": "yCWiEndqaCaT"
      },
      "execution_count": null,
      "outputs": []
    },
    {
      "cell_type": "markdown",
      "source": [
        "In this example:\n",
        "- New data is added by providing a new key-value pair.\n",
        "- The `del` method is used to delete an element based on the key.\n",
        "- The `pop()` method is used to delete an element based on the key and return the deleted value.\n",
        "- The `clear()` method is used to delete all elements in the dictionary.\n",
        "\n",
        "Using these methods provides flexibility in managing data within a dictionary."
      ],
      "metadata": {
        "id": "79ux0qNwZ0MP"
      }
    },
    {
      "cell_type": "markdown",
      "source": [
        "## [Bonus] Regular Expressions (Regex)\n",
        "\n",
        "A regular expression, also known as regex or regexp, is essentially a search query for text that’s expressed by string pattern.\n",
        "\n",
        "There are multiple different ways through which we can apply regular expressions, a whole wide range of programming languages, includes Python. Also command line tools that know how to apply regexes, like grep, sed or awk. The implementation may vary, but the principles remain the same.\n",
        "\n"
      ],
      "metadata": {
        "id": "Ix5rz1cgr-gu"
      }
    },
    {
      "cell_type": "markdown",
      "source": [
        "* Regular expressions in Python uses raw string (r\"\"). It means that interpreter shouldn't try to interpret any special characters. Just pass the string to the function as is.\n",
        "* The Match object includes information like position in the string that matched and the actual matching string.\n",
        "\n",
        "\n"
      ],
      "metadata": {
        "id": "6zcosPuwsM79"
      }
    },
    {
      "cell_type": "code",
      "source": [
        "import re\n",
        "\n",
        "\n",
        "result = re.search(r\"aza\", \"plaza\")\n",
        "print(result)\n",
        "# <re.Match object; span=(2, 5), match='aza'>\n",
        "print(re.search(r\"aza\", \"maze\"))\n",
        "# None"
      ],
      "metadata": {
        "colab": {
          "base_uri": "https://localhost:8080/"
        },
        "id": "nOAHvuvvuV5R",
        "outputId": "5ebc3254-b202-4621-e05b-904a00f88f2f"
      },
      "execution_count": null,
      "outputs": [
        {
          "output_type": "stream",
          "name": "stdout",
          "text": [
            "<re.Match object; span=(2, 5), match='aza'>\n",
            "None\n"
          ]
        }
      ]
    },
    {
      "cell_type": "markdown",
      "source": [
        "* Circumflex (^) pattern matches the beginning of the line. Dot (.) matches any character. Option re.IGNORECASE to match insensitive case."
      ],
      "metadata": {
        "id": "3aL1F5a7uZDL"
      }
    },
    {
      "cell_type": "code",
      "source": [
        "print(re.search(r\"^x\", \"xenon\"))\n",
        "# <re.Match object; span=(0, 1), match='x'>\n",
        "\n",
        "print(re.search(r\"p.ng\", \"sponge\"))\n",
        "# <re.Match object; span=(1, 5), match='pong'>\n"
      ],
      "metadata": {
        "colab": {
          "base_uri": "https://localhost:8080/"
        },
        "id": "CJn7iAFpsLjh",
        "outputId": "d23841ae-0e5b-4579-b7e3-9102aa9e6d4a"
      },
      "execution_count": null,
      "outputs": [
        {
          "output_type": "stream",
          "name": "stdout",
          "text": [
            "<re.Match object; span=(0, 1), match='x'>\n",
            "<re.Match object; span=(1, 5), match='pong'>\n"
          ]
        }
      ]
    },
    {
      "cell_type": "markdown",
      "source": [
        "* To matched a range of characters, use another feature of regexes called character classes ([ ]).\n"
      ],
      "metadata": {
        "id": "mhL2gjujxQ17"
      }
    },
    {
      "cell_type": "code",
      "source": [
        "print(re.search(r\"cloud[a-zA-Z0-9]\", \"cloud9\"))\n",
        "# <re.Match object; span=(0, 6), match='cloud9'>\n",
        "\n",
        "print(re.search(r\"[^a-zA-Z]\", \"This is a sentence.\"))\n",
        "# <re.Match object; span=(4, 5), match=' '>"
      ],
      "metadata": {
        "colab": {
          "base_uri": "https://localhost:8080/"
        },
        "id": "Wpfo9E3aq-PI",
        "outputId": "5e5e79f1-2dc6-40ba-e444-6fdfcb72799c"
      },
      "execution_count": null,
      "outputs": [
        {
          "output_type": "stream",
          "name": "stdout",
          "text": [
            "<re.Match object; span=(0, 6), match='cloud9'>\n",
            "<re.Match object; span=(4, 5), match=' '>\n"
          ]
        }
      ]
    },
    {
      "cell_type": "markdown",
      "source": [
        "* Use the pipe symbol (|) to match one expression or another."
      ],
      "metadata": {
        "id": "7krjV5equfvW"
      }
    },
    {
      "cell_type": "code",
      "source": [
        "print(re.search(r\"cat|dog\", \"I like cats.\"))\n",
        "# <re.Match object; span=(7, 10), match='cat'>"
      ],
      "metadata": {
        "colab": {
          "base_uri": "https://localhost:8080/"
        },
        "id": "LNkO7WZZukUH",
        "outputId": "ae727929-dc7c-422e-cb74-150b5366f628"
      },
      "execution_count": null,
      "outputs": [
        {
          "output_type": "stream",
          "name": "stdout",
          "text": [
            "<re.Match object; span=(7, 10), match='cat'>\n"
          ]
        }
      ]
    },
    {
      "cell_type": "markdown",
      "source": [
        "* Dollar sign ($) pattern match the end of the line."
      ],
      "metadata": {
        "id": "eg7gKGMPuioi"
      }
    },
    {
      "cell_type": "code",
      "source": [
        "print(re.search(r\"cat$\", \"I like cats.\"))\n",
        "# None"
      ],
      "metadata": {
        "colab": {
          "base_uri": "https://localhost:8080/"
        },
        "id": "STqJHazoun1y",
        "outputId": "c66dbdb4-831b-4861-9bf5-49a42f3fe9f6"
      },
      "execution_count": null,
      "outputs": [
        {
          "output_type": "stream",
          "name": "stdout",
          "text": [
            "None\n"
          ]
        }
      ]
    },
    {
      "cell_type": "markdown",
      "source": [
        "Repeated matches is another regex concept.\n",
        "* The star (*) takes as many character as possible.\n"
      ],
      "metadata": {
        "id": "i9_mHgy6xh9d"
      }
    },
    {
      "cell_type": "code",
      "source": [
        "print(re.search(r\"Py[a-z]*n\", \"Python Programming\"))\n",
        "# <re.Match object; span=(0, 6), match='Python'>"
      ],
      "metadata": {
        "colab": {
          "base_uri": "https://localhost:8080/"
        },
        "id": "7Hwpl2DNxhSK",
        "outputId": "0e773338-c62c-4ccc-f6c3-096e1f076cc7"
      },
      "execution_count": null,
      "outputs": [
        {
          "output_type": "stream",
          "name": "stdout",
          "text": [
            "<re.Match object; span=(0, 6), match='Python'>\n"
          ]
        }
      ]
    },
    {
      "cell_type": "markdown",
      "source": [
        "* The plus (+) character matches one or more occurrences of the character before it."
      ],
      "metadata": {
        "id": "TxqJPlQ7uyxy"
      }
    },
    {
      "cell_type": "code",
      "source": [
        "print(re.search(r\"o+l+\", \"woolly\"))\n",
        "# <re.Match object; span=(1, 5), match='ooll'>"
      ],
      "metadata": {
        "colab": {
          "base_uri": "https://localhost:8080/"
        },
        "id": "mD9smJvCu3Kx",
        "outputId": "d8092f88-5ba2-40a4-bb1a-028fc4efd89d"
      },
      "execution_count": null,
      "outputs": [
        {
          "output_type": "stream",
          "name": "stdout",
          "text": [
            "<re.Match object; span=(1, 5), match='ooll'>\n"
          ]
        }
      ]
    },
    {
      "cell_type": "markdown",
      "source": [
        "* The question (?) mark symbol means either zero or one occurrence of the character before it."
      ],
      "metadata": {
        "id": "nf41x191u1jI"
      }
    },
    {
      "cell_type": "code",
      "source": [
        "print(re.search(r\"p?each\", \"I like peaches\"))\n",
        "# <re.Match object; span=(7, 12), match='peach'>"
      ],
      "metadata": {
        "colab": {
          "base_uri": "https://localhost:8080/"
        },
        "id": "y5yJ1T9xu6cH",
        "outputId": "6aed80cd-feb8-429b-ad48-67be5a92e1b6"
      },
      "execution_count": null,
      "outputs": [
        {
          "output_type": "stream",
          "name": "stdout",
          "text": [
            "<re.Match object; span=(7, 12), match='peach'>\n"
          ]
        }
      ]
    }
  ]
}