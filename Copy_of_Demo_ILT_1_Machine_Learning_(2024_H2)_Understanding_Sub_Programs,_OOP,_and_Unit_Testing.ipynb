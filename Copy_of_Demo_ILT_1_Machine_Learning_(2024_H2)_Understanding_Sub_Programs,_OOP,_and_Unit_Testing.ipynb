{
  "nbformat": 4,
  "nbformat_minor": 0,
  "metadata": {
    "colab": {
      "provenance": [],
      "include_colab_link": true
    },
    "kernelspec": {
      "name": "python3",
      "display_name": "Python 3"
    },
    "language_info": {
      "name": "python"
    }
  },
  "cells": [
    {
      "cell_type": "markdown",
      "metadata": {
        "id": "view-in-github",
        "colab_type": "text"
      },
      "source": [
        "<a href=\"https://colab.research.google.com/github/rizalpangestu1/ILT-Bangkit2024H2/blob/main/Copy_of_Demo_ILT_1_Machine_Learning_(2024_H2)_Understanding_Sub_Programs%2C_OOP%2C_and_Unit_Testing.ipynb\" target=\"_parent\"><img src=\"https://colab.research.google.com/assets/colab-badge.svg\" alt=\"Open In Colab\"/></a>"
      ]
    },
    {
      "cell_type": "markdown",
      "source": [
        "# Understanding Sub-Programs, OOP, and Unit Testing"
      ],
      "metadata": {
        "id": "Z62RXXwWhNqk"
      }
    },
    {
      "cell_type": "markdown",
      "source": [
        "## Sub-Programs"
      ],
      "metadata": {
        "id": "3cFIRlRjhPs3"
      }
    },
    {
      "cell_type": "code",
      "execution_count": null,
      "metadata": {
        "colab": {
          "base_uri": "https://localhost:8080/"
        },
        "id": "dm9dWaS5cGop",
        "outputId": "a68eba44-a53c-47b5-9992-8e74a1fe9727"
      },
      "outputs": [
        {
          "output_type": "stream",
          "name": "stdout",
          "text": [
            "50\n",
            "60\n"
          ]
        }
      ],
      "source": [
        "# Luas pertama\n",
        "panjang = 5\n",
        "lebar = 10\n",
        "\n",
        "luas_persegi_panjang = panjang * lebar\n",
        "print(luas_persegi_panjang)\n",
        "\n",
        "# Luas kedua\n",
        "panjang = 4\n",
        "lebar = 15\n",
        "\n",
        "luas_persegi_panjang = panjang * lebar\n",
        "print(luas_persegi_panjang)"
      ]
    },
    {
      "cell_type": "code",
      "source": [
        "def mencari_luas_persegi_panjang(panjang,lebar):\n",
        "    luas_persegi_panjang = panjang*lebar\n",
        "    return luas_persegi_panjang\n",
        "\n",
        "persegi_panjang_pertama = mencari_luas_persegi_panjang(5,10)\n",
        "print(persegi_panjang_pertama)\n",
        "\n",
        "persegi_panjang_kedua = mencari_luas_persegi_panjang(4,15)\n",
        "print(persegi_panjang_kedua)"
      ],
      "metadata": {
        "colab": {
          "base_uri": "https://localhost:8080/"
        },
        "id": "U-39U-q7NEdm",
        "outputId": "8b42bbfe-49d0-44a6-ea7a-ee34951aa25e"
      },
      "execution_count": null,
      "outputs": [
        {
          "output_type": "stream",
          "name": "stdout",
          "text": [
            "None\n",
            "None\n"
          ]
        }
      ]
    },
    {
      "cell_type": "markdown",
      "source": [
        "### Function\n",
        "![Images](https://dicoding-web-img.sgp1.cdn.digitaloceanspaces.com/original/academy/dos:273ed8af66ad0b01cb35f7fa34072d8620230821195744.jpeg)\n",
        "\n",
        "1. Built-in Functions<br>\n",
        "Built-in functions are a collection of functions that are already integrated with the Python programming language so there is no need to import additional modules or libraries. These built-in functions provide the core and basic functions of the Python language. Examples of built-in functions are print(), len(), type(), range(), and so on.\n",
        "2. User-defined Functions <br> User-defined functions are a type of function that we define ourselves to perform certain specific tasks. An example of user-defined functions is the function we created at the beginning of this material about finding the area of a rectangle."
      ],
      "metadata": {
        "id": "5JOHEdTONfZL"
      }
    },
    {
      "cell_type": "markdown",
      "source": [
        "#### Built in function"
      ],
      "metadata": {
        "id": "pXkZ7QdyQXuS"
      }
    },
    {
      "cell_type": "code",
      "source": [
        "import os\n",
        "from datetime import datetime, timedelta\n",
        "import re"
      ],
      "metadata": {
        "id": "xe4oV3ZENfCg"
      },
      "execution_count": null,
      "outputs": []
    },
    {
      "cell_type": "code",
      "source": [
        "# Menampilkan daftar file di direktori saat ini\n",
        "print(\"Files in current directory:\", os.listdir('.'))\n",
        "\n",
        "# Membuat direktori baru\n",
        "os.mkdir('new_directory')\n",
        "print(\"New directory created:\", os.listdir('.'))\n",
        "\n",
        "# Menghapus direktori baru\n",
        "os.rmdir('new_directory')\n",
        "print(\"New directory removed:\", os.listdir('.'))"
      ],
      "metadata": {
        "colab": {
          "base_uri": "https://localhost:8080/"
        },
        "id": "jaX7_gYauVYj",
        "outputId": "e4537091-29b8-4623-ca9e-97dd7078b85d"
      },
      "execution_count": null,
      "outputs": [
        {
          "output_type": "stream",
          "name": "stdout",
          "text": [
            "Files in current directory: ['.config', 'sample_data']\n",
            "New directory created: ['.config', 'new_directory', 'sample_data']\n",
            "New directory removed: ['.config', 'sample_data']\n"
          ]
        }
      ]
    },
    {
      "cell_type": "code",
      "source": [
        "now = datetime.now()\n",
        "print(\"Current date and time:\", now)\n",
        "\n",
        "# Menghitung selisih antara dua tanggal\n",
        "date1 = datetime(2023, 1, 1)\n",
        "date2 = datetime.today()\n",
        "difference = date2 - date1\n",
        "print(\"Difference between dates:\", difference)\n",
        "\n",
        "# Memformat tanggal\n",
        "formatted_date = now.strftime(\"%Y-%m-%d %H:%M:%S\")\n",
        "print(\"Formatted date:\", formatted_date)"
      ],
      "metadata": {
        "colab": {
          "base_uri": "https://localhost:8080/"
        },
        "id": "1r9kE0JJu0t2",
        "outputId": "43b18db7-7a96-4c8f-85c8-f923550939fd"
      },
      "execution_count": null,
      "outputs": [
        {
          "output_type": "stream",
          "name": "stdout",
          "text": [
            "Current date and time: 2024-09-24 05:33:14.067864\n",
            "Difference between dates: 632 days, 5:33:14.070576\n",
            "Formatted date: 2024-09-24 05:33:14\n"
          ]
        }
      ]
    },
    {
      "cell_type": "code",
      "source": [
        "# Mencari pola dalam teks\n",
        "text = \"The rain in Spain stays mainly in the plain.\"\n",
        "pattern = \"ain\"\n",
        "matches = re.findall(pattern, text)\n",
        "print(\"Matches found:\", matches)\n",
        "\n",
        "# Mengganti teks yang cocok dengan pola\n",
        "replaced_text = re.sub(pattern, \"XYZ\", text)\n",
        "print(\"Replaced text:\", replaced_text)\n",
        "\n",
        "# Membagi teks berdasarkan pola\n",
        "split_text = re.split(r'\\s+', text)  # Memisahkan berdasarkan spasi\n",
        "print(\"Split text:\", split_text)"
      ],
      "metadata": {
        "colab": {
          "base_uri": "https://localhost:8080/"
        },
        "id": "aIwPUSBovWeK",
        "outputId": "930d25f9-2dea-4914-b0ec-e8d751d2565c"
      },
      "execution_count": null,
      "outputs": [
        {
          "output_type": "stream",
          "name": "stdout",
          "text": [
            "Matches found: ['ain', 'ain', 'ain', 'ain']\n",
            "Replaced text: The rXYZ in SpXYZ stays mXYZly in the plXYZ.\n",
            "Split text: ['The', 'rain', 'in', 'Spain', 'stays', 'mainly', 'in', 'the', 'plain.']\n"
          ]
        }
      ]
    },
    {
      "cell_type": "markdown",
      "source": [
        "#### External Library"
      ],
      "metadata": {
        "id": "Xrdi1cssQdsH"
      }
    },
    {
      "cell_type": "code",
      "source": [
        "!pip install tensorflow"
      ],
      "metadata": {
        "id": "NYsexMkfQgT3"
      },
      "execution_count": null,
      "outputs": []
    },
    {
      "cell_type": "markdown",
      "source": [
        "#### Function Usability\n",
        "1. Programs can be broken down into smaller parts (sub).\n",
        "![dipecah](https://dicoding-web-img.sgp1.cdn.digitaloceanspaces.com/original/academy/dos:ebf73bd121f15f7f3f3803e654b6255820230821200321.png)\n",
        "2. Reuse code instead of rewriting code.\n",
        "![reuse](https://dicoding-web-img.sgp1.cdn.digitaloceanspaces.com/original/academy/dos:51043f9d20256a385161aedf9744eaeb20230821200342.png)\n",
        "3. Each function is independent and can be tested separately.\n",
        "![independen](https://dicoding-web-img.sgp1.cdn.digitaloceanspaces.com/original/academy/dos:0ff839b28a4fb293f8ea4f61149e734820230821200403.png)"
      ],
      "metadata": {
        "id": "-KEQXaxsQ8Zl"
      }
    },
    {
      "cell_type": "markdown",
      "source": [
        "#### Define Functions"
      ],
      "metadata": {
        "id": "EjOYpveYRizE"
      }
    },
    {
      "cell_type": "code",
      "source": [
        "def mencari_luas_persegi_panjang(panjang,lebar):\n",
        "    luas_persegi_panjang = panjang*lebar\n",
        "    return luas_persegi_panjang"
      ],
      "metadata": {
        "id": "OBBpw3P3Rk1l"
      },
      "execution_count": null,
      "outputs": []
    },
    {
      "cell_type": "markdown",
      "source": [
        "With the following notes.\n",
        "![](https://dicoding-web-img.sgp1.cdn.digitaloceanspaces.com/original/academy/dos:8206efc98054c60d1c91e638d1f9ff9a20230821195745.jpeg)\n",
        "1. Function header tells Python that we are starting to define a function.\n",
        "2. The function body is the indented block of code after the function header that defines what the function does. We define all the code that will be generated in the function body. Remember that this section is a block of code so you must pay attention to indentation to avoid errors.\n",
        "3. Function return is the statement used in a function to return the value or execution result of the function. When a function is executed, there is usually a situation that we want to get the value or result of the process performed by the function. For that, we use the 'return' statement in the function to return the value to the function caller."
      ],
      "metadata": {
        "id": "qtZH0OAGRp4p"
      }
    },
    {
      "cell_type": "markdown",
      "source": [
        "#### Create Function\n",
        "![images](https://dicoding-web-img.sgp1.cdn.digitaloceanspaces.com/original/academy/dos:4da1b6deac6e0d0cb5d554f67432f21220230821195745.jpeg)"
      ],
      "metadata": {
        "id": "-khwDnupSGmr"
      }
    },
    {
      "cell_type": "code",
      "source": [
        "def mencari_luas_persegi_panjang(panjang,lebar):\n",
        "    luas_persegi_panjang = panjang*lebar\n",
        "    return luas_persegi_panjang\n",
        "\n",
        "mencari_luas_persegi_panjang(10,5)"
      ],
      "metadata": {
        "colab": {
          "base_uri": "https://localhost:8080/"
        },
        "id": "MIwFLvvlSouD",
        "outputId": "00f602a5-df72-46d4-f6f4-2186029dfddc"
      },
      "execution_count": null,
      "outputs": [
        {
          "output_type": "execute_result",
          "data": {
            "text/plain": [
              "50"
            ]
          },
          "metadata": {},
          "execution_count": 5
        }
      ]
    },
    {
      "cell_type": "markdown",
      "source": [
        "#### Docstring\n",
        "To make the function easier to understand by other programmers, we can create documentation in the form of docstring. Docstring is an acronym for documentation string, which aims to create documentation for the function created. Generally, the documentation is in the form of arguments, returns, function descriptions, and so on."
      ],
      "metadata": {
        "id": "yMB0rW09Szn9"
      }
    },
    {
      "cell_type": "code",
      "source": [
        "def mencari_luas_persegi_panjang(panjang,lebar):\n",
        "    \"\"\"\n",
        "    Fungsi ini digunakan untuk menghitung luas persegi panjang.\n",
        "\n",
        "    Args:\n",
        "        panjang (int): Panjang persegi panjang.\n",
        "        lebar (int): Lebar persegi panjang.\n",
        "\n",
        "    Returns:\n",
        "        int: Luas persegi panjang hasil perhitungan.\n",
        "    \"\"\"\n",
        "\n",
        "    luas_persegi_panjang = panjang*lebar\n",
        "    return luas_persegi_panjang\n",
        "\n",
        "persegi_panjang_pertama = mencari_luas_persegi_panjang(5,10)\n",
        "print(persegi_panjang_pertama)"
      ],
      "metadata": {
        "colab": {
          "base_uri": "https://localhost:8080/"
        },
        "id": "oPfKk1W-S7t8",
        "outputId": "e93f8d3a-811e-4b58-8833-ae2f49cea6f9"
      },
      "execution_count": null,
      "outputs": [
        {
          "output_type": "stream",
          "name": "stdout",
          "text": [
            "50\n"
          ]
        }
      ]
    },
    {
      "cell_type": "markdown",
      "source": [
        "#### Lambda Expression\n",
        "![GIF](https://dicoding-web-img.sgp1.cdn.digitaloceanspaces.com/original/academy/dos:569269a8cc44cec440aef319dab44e9020230821202944.gif)"
      ],
      "metadata": {
        "id": "MJYELGa6UPHo"
      }
    },
    {
      "cell_type": "code",
      "source": [
        "mencari_luas_persegi_panjang = lambda panjang, lebar: panjang*lebar\n",
        "print(mencari_luas_persegi_panjang(5,10))"
      ],
      "metadata": {
        "colab": {
          "base_uri": "https://localhost:8080/"
        },
        "id": "vcQBEDX7URJs",
        "outputId": "a910b942-485f-4ef7-82ba-cf356879db93"
      },
      "execution_count": null,
      "outputs": [
        {
          "output_type": "stream",
          "name": "stdout",
          "text": [
            "50\n"
          ]
        }
      ]
    },
    {
      "cell_type": "markdown",
      "source": [
        "### Procedure\n",
        "In KBBI, the word procedure has the meaning of a stage of activity to complete an activity. This is the same as procedure as a subprogram which is a grouping of instructions that are often used in programs.\n",
        "\n",
        "Unlike functions, procedures do not require input or output parameters and can be viewed as functions that do not produce values. In Python, a procedure is defined by an expressionless return or a value generated at the end of the function.\n",
        "\n",
        "Conceptually, the image above is the basic framework of a procedure in Python. At first glance, it is very similar to a function, except that we don't define returns and even return values.\n",
        "\n",
        "Here is an example of a procedure in Python."
      ],
      "metadata": {
        "id": "AGy5prTra4QG"
      }
    },
    {
      "cell_type": "code",
      "source": [
        "def greeting(name):\n",
        "    print(\"Halo \" + name + \", Selamat Datang!\")"
      ],
      "metadata": {
        "id": "m6oRbiyma6BM"
      },
      "execution_count": null,
      "outputs": []
    },
    {
      "cell_type": "code",
      "source": [
        "greeting(\"Dicoding Indonesia\")"
      ],
      "metadata": {
        "id": "ViLbWt98bWIe",
        "outputId": "cf34655b-339a-46bd-d215-27a4f80c4a58",
        "colab": {
          "base_uri": "https://localhost:8080/"
        }
      },
      "execution_count": null,
      "outputs": [
        {
          "output_type": "stream",
          "name": "stdout",
          "text": [
            "Halo Dicoding Indonesia, Selamat Datang!\n"
          ]
        }
      ]
    },
    {
      "cell_type": "markdown",
      "source": [
        "## Basic Object-Oriented Programming\n",
        "![Simple explanation](https://dicoding-web-img.sgp1.cdn.digitaloceanspaces.com/original/academy/dos:56ba7cc237efe8e9732873b59b4cb20020230822104950.jpeg)"
      ],
      "metadata": {
        "id": "Y1yFPu-0hSZS"
      }
    },
    {
      "cell_type": "markdown",
      "source": [
        "### Class"
      ],
      "metadata": {
        "id": "qcPFFBenJ8PR"
      }
    },
    {
      "cell_type": "code",
      "source": [
        "class Mobil:\n",
        "    # Atribut\n",
        "    warna = \"Merah\""
      ],
      "metadata": {
        "id": "tYFUzmi6hUzH"
      },
      "execution_count": null,
      "outputs": []
    },
    {
      "cell_type": "markdown",
      "source": [
        "### Object"
      ],
      "metadata": {
        "id": "67iQ_U_eLFoD"
      }
    },
    {
      "cell_type": "code",
      "source": [
        "class Mobil:\n",
        "    # Atribut\n",
        "    warna = \"Merah\"\n",
        "\n",
        "mobil_1 = Mobil()\n",
        "print(mobil_1.warna)\n",
        "\n",
        "mobil_1.warna = \"Biru\"\n",
        "print(mobil_1.warna)"
      ],
      "metadata": {
        "colab": {
          "base_uri": "https://localhost:8080/"
        },
        "id": "fiw8QmEhLHiZ",
        "outputId": "7087d256-2f80-4b5d-f9e7-f1f1d55ebebd"
      },
      "execution_count": null,
      "outputs": [
        {
          "output_type": "stream",
          "name": "stdout",
          "text": [
            "Merah\n",
            "Biru\n"
          ]
        }
      ]
    },
    {
      "cell_type": "markdown",
      "source": [
        "### Atribut"
      ],
      "metadata": {
        "id": "2DkC72WjLX_m"
      }
    },
    {
      "cell_type": "code",
      "source": [
        "class Mobil:\n",
        "    # Atribut kelas\n",
        "    warna = \"Merah\"\n",
        "\n",
        "mobil1 = Mobil()\n",
        "print(mobil1.warna)\n",
        "\n",
        "mobil2 = Mobil()\n",
        "print(mobil2.warna)\n",
        "\n",
        "# Mengubah atribut kelas\n",
        "Mobil.warna = \"Hitam\"\n",
        "\n",
        "print(mobil1.warna)\n",
        "print(mobil2.warna)"
      ],
      "metadata": {
        "colab": {
          "base_uri": "https://localhost:8080/"
        },
        "id": "_7T5y7N7LZEZ",
        "outputId": "cb5c7583-93bd-4dcf-bfa5-bc5ed67c2ee9"
      },
      "execution_count": null,
      "outputs": [
        {
          "output_type": "stream",
          "name": "stdout",
          "text": [
            "Merah\n",
            "Merah\n",
            "Hitam\n",
            "Hitam\n"
          ]
        }
      ]
    },
    {
      "cell_type": "markdown",
      "source": [
        "### Class Constructor"
      ],
      "metadata": {
        "id": "4OfaAJ_6LzDN"
      }
    },
    {
      "cell_type": "code",
      "source": [
        "class Mobil:\n",
        "    # Atribut Instance\n",
        "    def __init__(self):\n",
        "        self.warna = 'Merah'\n",
        "\n",
        "mobil_1 = Mobil()\n",
        "mobil_2 = Mobil()\n",
        "\n",
        "print(mobil_1.warna)\n",
        "print(mobil_2.warna)\n",
        "\n",
        "# Mengubah atribut instance\n",
        "mobil_1.warna = \"Hitam\"\n",
        "\n",
        "# Menampilkan kembali atribut warna\n",
        "print(mobil_1.warna)\n",
        "print(mobil_2.warna)"
      ],
      "metadata": {
        "colab": {
          "base_uri": "https://localhost:8080/"
        },
        "id": "JTJ1IjDkMKJP",
        "outputId": "ef3f87eb-1020-4c5a-8593-c9686912afbf"
      },
      "execution_count": null,
      "outputs": [
        {
          "output_type": "stream",
          "name": "stdout",
          "text": [
            "Merah\n",
            "Merah\n",
            "Hitam\n",
            "Merah\n"
          ]
        }
      ]
    },
    {
      "cell_type": "code",
      "source": [
        "class Mobil:\n",
        "    def __init__(self, warna, merek, kecepatan):\n",
        "        self.warna = warna\n",
        "        self.merek = merek\n",
        "        self.kecepatan = kecepatan\n",
        "\n",
        "mobil_1 = Mobil('Merah', 'DicodingCar', 160)\n",
        "\n",
        "print(mobil_1.warna)\n",
        "print(mobil_1.merek)\n",
        "print(mobil_1.kecepatan)"
      ],
      "metadata": {
        "colab": {
          "base_uri": "https://localhost:8080/"
        },
        "id": "0tHBfZ0QMlbW",
        "outputId": "424a1996-6752-469e-a392-c7861c612d28"
      },
      "execution_count": null,
      "outputs": [
        {
          "output_type": "stream",
          "name": "stdout",
          "text": [
            "Merah\n",
            "DicodingCar\n",
            "160\n"
          ]
        }
      ]
    },
    {
      "cell_type": "markdown",
      "source": [
        "### Method"
      ],
      "metadata": {
        "id": "C7vDmp1gNQ5c"
      }
    },
    {
      "cell_type": "code",
      "source": [
        "def my_decorator(func):\n",
        "    def wrapper():\n",
        "        print(\"Sebelum fungsi dieksekusi.\")\n",
        "        func()\n",
        "        print(\"Setelah fungsi dieksekusi.\")\n",
        "    return wrapper\n",
        "\n",
        "# Dekorasi fungsi dengan decorator\n",
        "@my_decorator\n",
        "def say_hello():\n",
        "    print(\"Hello, world!\")\n",
        "\n",
        "# Memanggil fungsi yang sudah didekorasi\n",
        "say_hello()"
      ],
      "metadata": {
        "colab": {
          "base_uri": "https://localhost:8080/"
        },
        "id": "rifcSjJ0NR8Y",
        "outputId": "0d2fd434-3155-48d7-fbc2-5b68a9f360a4"
      },
      "execution_count": null,
      "outputs": [
        {
          "output_type": "stream",
          "name": "stdout",
          "text": [
            "Sebelum fungsi dieksekusi.\n",
            "Hello, world!\n",
            "Setelah fungsi dieksekusi.\n"
          ]
        }
      ]
    },
    {
      "cell_type": "markdown",
      "source": [
        "#### Object Method"
      ],
      "metadata": {
        "id": "b0Fo3cMpaBvk"
      }
    },
    {
      "cell_type": "code",
      "source": [
        "class Mobil:\n",
        "    def __init__(self, warna, merek, kecepatan):\n",
        "        self.warna = warna\n",
        "        self.merek = merek\n",
        "        self.kecepatan = kecepatan\n",
        "\n",
        "    def tambah_kecepatan(self):\n",
        "        self.kecepatan += 10\n",
        "\n",
        "mobil_1 = Mobil(\"Merah\", \"DicodingCar\", 160)\n",
        "print(\"Sebelum ditambahkan: \")\n",
        "print(mobil_1.kecepatan)\n",
        "\n",
        "mobil_1.tambah_kecepatan()        # Memanggil metode tambah_kecepatan.\n",
        "\n",
        "print(\"Setelah ditambahkan: \")\n",
        "print(mobil_1.kecepatan)"
      ],
      "metadata": {
        "colab": {
          "base_uri": "https://localhost:8080/"
        },
        "id": "Ta0HKbMBZbw5",
        "outputId": "e987e4af-2e1d-455e-a597-20c2be4e1849"
      },
      "execution_count": null,
      "outputs": [
        {
          "output_type": "stream",
          "name": "stdout",
          "text": [
            "Sebelum ditambahkan: \n",
            "160\n",
            "Setelah ditambahkan: \n",
            "170\n"
          ]
        }
      ]
    },
    {
      "cell_type": "code",
      "source": [
        "class Mobil:\n",
        "    def __init__(self, warna, merek, kecepatan):\n",
        "        self.warna = warna\n",
        "        self.merek = merek\n",
        "        self.kecepatan = kecepatan\n",
        "\n",
        "    def tambah_kecepatan(self):\n",
        "        self.kecepatan += 10\n",
        "\n",
        "Mobil.tambah_kecepatan()"
      ],
      "metadata": {
        "colab": {
          "base_uri": "https://localhost:8080/",
          "height": 183
        },
        "id": "B0fS_AxCZxzV",
        "outputId": "ac6e5cd5-fab0-4681-a984-b2844ead0625"
      },
      "execution_count": null,
      "outputs": [
        {
          "output_type": "error",
          "ename": "TypeError",
          "evalue": "Mobil.tambah_kecepatan() missing 1 required positional argument: 'self'",
          "traceback": [
            "\u001b[0;31m---------------------------------------------------------------------------\u001b[0m",
            "\u001b[0;31mTypeError\u001b[0m                                 Traceback (most recent call last)",
            "\u001b[0;32m<ipython-input-7-54f47527c6f3>\u001b[0m in \u001b[0;36m<cell line: 10>\u001b[0;34m()\u001b[0m\n\u001b[1;32m      8\u001b[0m         \u001b[0mself\u001b[0m\u001b[0;34m.\u001b[0m\u001b[0mkecepatan\u001b[0m \u001b[0;34m+=\u001b[0m \u001b[0;36m10\u001b[0m\u001b[0;34m\u001b[0m\u001b[0;34m\u001b[0m\u001b[0m\n\u001b[1;32m      9\u001b[0m \u001b[0;34m\u001b[0m\u001b[0m\n\u001b[0;32m---> 10\u001b[0;31m \u001b[0mMobil\u001b[0m\u001b[0;34m.\u001b[0m\u001b[0mtambah_kecepatan\u001b[0m\u001b[0;34m(\u001b[0m\u001b[0;34m)\u001b[0m\u001b[0;34m\u001b[0m\u001b[0;34m\u001b[0m\u001b[0m\n\u001b[0m",
            "\u001b[0;31mTypeError\u001b[0m: Mobil.tambah_kecepatan() missing 1 required positional argument: 'self'"
          ]
        }
      ]
    },
    {
      "cell_type": "markdown",
      "source": [
        "#### Static Method"
      ],
      "metadata": {
        "id": "gAJ1skywaDgt"
      }
    },
    {
      "cell_type": "code",
      "source": [
        "class Mobil:\n",
        "    def __init__(self, merek):\n",
        "        self.merek = merek\n",
        "\n",
        "    @staticmethod\n",
        "    def intro_mobil():\n",
        "        print(\"Ini adalah metode dari kelas Mobil\")\n",
        "\n",
        "Mobil.intro_mobil()\n",
        "mobil_1 = Mobil(\"DicodingCar\")\n",
        "mobil_1.intro_mobil()"
      ],
      "metadata": {
        "colab": {
          "base_uri": "https://localhost:8080/"
        },
        "id": "sr9a7x89aG3t",
        "outputId": "b7ceb0aa-f5ca-4369-dc7f-31cb35192457"
      },
      "execution_count": null,
      "outputs": [
        {
          "output_type": "stream",
          "name": "stdout",
          "text": [
            "Ini adalah metode dari kelas Mobil\n",
            "Ini adalah metode dari kelas Mobil\n"
          ]
        }
      ]
    },
    {
      "cell_type": "markdown",
      "source": [
        "#### Class Method"
      ],
      "metadata": {
        "id": "WRkfqdsHbOCQ"
      }
    },
    {
      "cell_type": "code",
      "source": [
        "class Mobil:\n",
        "    def __init__(self, merek):\n",
        "        self.merek = merek\n",
        "\n",
        "    @classmethod\n",
        "    def intro_mobil(cls):\n",
        "        print(\"Ini adalah metode dari kelas Mobil\")\n",
        "\n",
        "Mobil.intro_mobil()\n",
        "mobil_1 = Mobil(\"DicodingCar\")\n",
        "mobil_1.intro_mobil()"
      ],
      "metadata": {
        "colab": {
          "base_uri": "https://localhost:8080/"
        },
        "id": "RrZJQAChbPmE",
        "outputId": "94471cab-aabc-496f-eded-50e3cd9db87b"
      },
      "execution_count": null,
      "outputs": [
        {
          "output_type": "stream",
          "name": "stdout",
          "text": [
            "Ini adalah metode dari kelas Mobil\n",
            "Ini adalah metode dari kelas Mobil\n"
          ]
        }
      ]
    },
    {
      "cell_type": "code",
      "source": [
        "class Person:\n",
        "    population = 0\n",
        "\n",
        "    def __init__(self, name, age):\n",
        "        self.name = name\n",
        "        self.age = age\n",
        "        Person.population += 1\n",
        "\n",
        "    @classmethod\n",
        "    def from_birth_year(cls, name, birth_year):\n",
        "        current_year = 2024  # Misalkan tahun sekarang adalah 2024\n",
        "        age = current_year - birth_year\n",
        "        return cls(name, age)\n",
        "\n",
        "    @classmethod\n",
        "    def get_population(cls):\n",
        "        return cls.population\n",
        "\n",
        "# Membuat instance menggunakan metode alternatif\n",
        "person1 = Person(\"Alice\", 30)\n",
        "person2 = Person.from_birth_year(\"Bob\", 1994)\n",
        "\n",
        "print(person1.name, person1.age)  # Output: Alice 30\n",
        "print(person2.name, person2.age)  # Output: Bob 30\n",
        "\n",
        "# Mengakses variabel kelas\n",
        "print(Person.get_population())  # Output: 2\n"
      ],
      "metadata": {
        "colab": {
          "base_uri": "https://localhost:8080/"
        },
        "id": "ktpFQryFc4ZS",
        "outputId": "33bebbd5-c056-434d-f579-b4b5f632f2b9"
      },
      "execution_count": null,
      "outputs": [
        {
          "output_type": "stream",
          "name": "stdout",
          "text": [
            "Alice 30\n",
            "Bob 30\n",
            "2\n"
          ]
        }
      ]
    },
    {
      "cell_type": "markdown",
      "source": [
        "### Inheritance"
      ],
      "metadata": {
        "id": "NQy24uP-eFje"
      }
    },
    {
      "cell_type": "code",
      "source": [
        "class Mobil:\n",
        "    def __init__(self, warna, merek, kecepatan):\n",
        "        self.warna = warna\n",
        "        self.merek = merek\n",
        "        self.kecepatan = kecepatan\n",
        "\n",
        "    def tambah_kecepatan(self):\n",
        "        self.kecepatan += 10\n",
        "\n",
        "\n",
        "class MobilSport(Mobil):\n",
        "    def turbo(self):\n",
        "        self.kecepatan += 50\n",
        "\n",
        "# Kelas Mobil Dasar\n",
        "mobil_1 = Mobil(\"Merah\", \"DicodingCar\", 160)\n",
        "print(mobil_1.kecepatan)\n",
        "\n",
        "# Kelas Mobil Sport\n",
        "mobil_sport_1 = MobilSport(\"Hitam\", \"DicodingSportCar\", 160)\n",
        "print(mobil_sport_1.kecepatan)\n",
        "mobil_sport_1.turbo()\n",
        "print(mobil_sport_1.kecepatan)"
      ],
      "metadata": {
        "colab": {
          "base_uri": "https://localhost:8080/"
        },
        "id": "kGHmh03zeG16",
        "outputId": "4722a4fb-894f-4692-9ab2-d3fd18eb2a41"
      },
      "execution_count": null,
      "outputs": [
        {
          "output_type": "stream",
          "name": "stdout",
          "text": [
            "160\n",
            "160\n",
            "210\n"
          ]
        }
      ]
    },
    {
      "cell_type": "markdown",
      "source": [
        "### Override"
      ],
      "metadata": {
        "id": "0DpJzJNReVr3"
      }
    },
    {
      "cell_type": "code",
      "source": [
        "class Mobil:\n",
        "    def __init__(self, warna, merek, kecepatan):\n",
        "        self.warna = warna\n",
        "        self.merek = merek\n",
        "        self.kecepatan = kecepatan\n",
        "\n",
        "    def tambah_kecepatan(self):     # tambah_kecepatan\n",
        "        self.kecepatan += 10\n",
        "\n",
        "class MobilSport(Mobil):\n",
        "    def turbo(self):\n",
        "        self.kecepatan += 50\n",
        "\n",
        "    def tambah_kecepatan(self):     # tambah_kecepatan\n",
        "        self.kecepatan += 30\n",
        "\n",
        "# Kelas Mobil Sport\n",
        "mobil_sport_1 = MobilSport(\"Hitam\", \"DicodingSportCar\", 160)\n",
        "print(mobil_sport_1.kecepatan)\n",
        "mobil_sport_1.tambah_kecepatan()     # Memanggil metode baru tambah kecepatan()\n",
        "print(mobil_sport_1.kecepatan)"
      ],
      "metadata": {
        "colab": {
          "base_uri": "https://localhost:8080/"
        },
        "id": "hMvH_1mNeWli",
        "outputId": "59f686f4-9280-42ec-d2e4-3a8e613952d7"
      },
      "execution_count": null,
      "outputs": [
        {
          "output_type": "stream",
          "name": "stdout",
          "text": [
            "160\n",
            "190\n"
          ]
        }
      ]
    },
    {
      "cell_type": "markdown",
      "source": [
        "### Super"
      ],
      "metadata": {
        "id": "rXGZQiVjelSs"
      }
    },
    {
      "cell_type": "code",
      "source": [
        "class Mobil:\n",
        "    def __init__(self, warna, merek, kecepatan):\n",
        "        self.warna = warna\n",
        "        self.merek = merek\n",
        "        self.kecepatan = kecepatan\n",
        "\n",
        "    def tambah_kecepatan(self):\n",
        "        self.kecepatan += 10\n",
        "\n",
        "\n",
        "class MobilSport(Mobil):\n",
        "    def turbo(self):\n",
        "        self.kecepatan += 50\n",
        "\n",
        "    def tambah_kecepatan(self):\n",
        "        super().tambah_kecepatan()\n",
        "        print(\"Kecepatan Anda meningkat! Hati-Hati!\")\n",
        "\n",
        "# Kelas Mobil Sport\n",
        "mobil_sport_1 = MobilSport(\"Hitam\", \"DicodingSportCar\", 160)\n",
        "mobil_sport_1.tambah_kecepatan()     # Memanggil metode baru tambah kecepatan()\n",
        "print(mobil_sport_1.kecepatan)"
      ],
      "metadata": {
        "colab": {
          "base_uri": "https://localhost:8080/"
        },
        "id": "3tngsHZQemoh",
        "outputId": "ed0883c4-5e1e-471e-ca65-02667c277ca0"
      },
      "execution_count": null,
      "outputs": [
        {
          "output_type": "stream",
          "name": "stdout",
          "text": [
            "Kecepatan Anda meningkat! Hati-Hati!\n",
            "170\n"
          ]
        }
      ]
    },
    {
      "cell_type": "markdown",
      "source": [
        "## Unit Testing"
      ],
      "metadata": {
        "id": "-I40JLj3hVOR"
      }
    },
    {
      "cell_type": "code",
      "source": [
        "# Definisikan fungsi yang akan diuji\n",
        "def add(a, b):\n",
        "    return a + b\n",
        "\n",
        "def subtract(a, b):\n",
        "    return a - b\n",
        "\n",
        "def multiply(a, b):\n",
        "    return a * b\n",
        "\n",
        "def divide(a, b):\n",
        "    if b == 0:\n",
        "        raise ValueError(\"Cannot divide by zero\")\n",
        "    return a / b\n"
      ],
      "metadata": {
        "id": "Ec81uY3ZhWRS"
      },
      "execution_count": null,
      "outputs": []
    },
    {
      "cell_type": "code",
      "source": [
        "import unittest\n",
        "\n",
        "class TestMathOperations(unittest.TestCase):\n",
        "\n",
        "    def test_add(self):\n",
        "        self.assertEqual(add(10, 5), 15)\n",
        "        self.assertEqual(add(-1, 1), 0)\n",
        "        self.assertEqual(add(-1, -1), -2)\n",
        "\n",
        "    def test_subtract(self):\n",
        "        self.assertEqual(subtract(10, 5), 5)\n",
        "        self.assertEqual(subtract(-1, 1), -2)\n",
        "        self.assertEqual(subtract(-1, -1), 0)\n",
        "\n",
        "    def test_multiply(self):\n",
        "        self.assertEqual(multiply(10, 5), 50)\n",
        "        self.assertEqual(multiply(-1, 1), -1)\n",
        "        self.assertEqual(multiply(-1, -1), 1)\n",
        "\n",
        "    def test_divide(self):\n",
        "        self.assertEqual(divide(10, 5), 2)\n",
        "        self.assertEqual(divide(-1, 1), -1)\n",
        "        self.assertEqual(divide(-1, -1), 1)\n",
        "        with self.assertRaises(ValueError):\n",
        "            divide(10, 0)\n",
        "\n",
        "if __name__ == '__main__':\n",
        "    unittest.main(argv=[''], verbosity=2, exit=False)"
      ],
      "metadata": {
        "colab": {
          "base_uri": "https://localhost:8080/"
        },
        "id": "h0IIunMLpnJa",
        "outputId": "27b4cd22-b392-429a-b420-2c8289cb5288"
      },
      "execution_count": null,
      "outputs": [
        {
          "output_type": "stream",
          "name": "stderr",
          "text": [
            "test_add (__main__.TestMathOperations) ... ok\n",
            "test_divide (__main__.TestMathOperations) ... ok\n",
            "test_multiply (__main__.TestMathOperations) ... ok\n",
            "test_subtract (__main__.TestMathOperations) ... ok\n",
            "test_index (__main__.TestStringMethods) ... ok\n",
            "test_isalnum (__main__.TestStringMethods) ... ok\n",
            "test_strip (__main__.TestStringMethods) ... ok\n",
            "\n",
            "----------------------------------------------------------------------\n",
            "Ran 7 tests in 0.045s\n",
            "\n",
            "OK\n"
          ]
        }
      ]
    },
    {
      "cell_type": "code",
      "source": [
        "import unittest\n",
        "\n",
        "def koneksi_ke_db():\n",
        "    print(\"[terhubung ke db]\")\n",
        "\n",
        "def putus_koneksi_db(db):\n",
        "    print(\"[tidak terhubung ke db {}]\".format(db))\n",
        "\n",
        "class User:\n",
        "    username = \"\"\n",
        "    aktif = False\n",
        "\n",
        "    def __init__(self, db, username):  # using db sample\n",
        "        self.username = username\n",
        "\n",
        "    def set_aktif(self):\n",
        "        self.aktif = True\n",
        "\n",
        "class TestUser(unittest.TestCase):\n",
        "    # Test Case 1\n",
        "    def test_user_default_not_active(self):\n",
        "        db = koneksi_ke_db()\n",
        "        dicoding = User(db, \"dicoding\")\n",
        "        self.assertFalse(dicoding.aktif)  # tidak aktif secara default\n",
        "        putus_koneksi_db(db)\n",
        "\n",
        "    # Test Case 2\n",
        "    def test_user_is_active(self):\n",
        "        db = koneksi_ke_db()\n",
        "        dicoding = User(db, \"dicoding\")\n",
        "        dicoding.set_aktif()  # aktifkan user baru\n",
        "        self.assertTrue(dicoding.aktif)\n",
        "        putus_koneksi_db(db)\n",
        "\n",
        "if __name__ == \"__main__\":\n",
        "    # Test Runner\n",
        "    unittest.main(argv=[''], verbosity=2, exit=False)"
      ],
      "metadata": {
        "colab": {
          "base_uri": "https://localhost:8080/"
        },
        "id": "I-AtrMkqqIEr",
        "outputId": "d31385e6-67a1-4446-f2c6-627267a1e48e"
      },
      "execution_count": null,
      "outputs": [
        {
          "output_type": "stream",
          "name": "stderr",
          "text": [
            "test_add (__main__.TestMathOperations) ... ok\n",
            "test_divide (__main__.TestMathOperations) ... ok\n",
            "test_multiply (__main__.TestMathOperations) ... ok\n",
            "test_subtract (__main__.TestMathOperations) ... ok\n",
            "test_index (__main__.TestStringMethods) ... ok\n",
            "test_isalnum (__main__.TestStringMethods) ... ok\n",
            "test_strip (__main__.TestStringMethods) ... ok\n",
            "test_user_default_not_active (__main__.TestUser) ... ok\n",
            "test_user_is_active (__main__.TestUser) ... ok\n",
            "\n",
            "----------------------------------------------------------------------\n",
            "Ran 9 tests in 0.036s\n",
            "\n",
            "OK\n"
          ]
        },
        {
          "output_type": "stream",
          "name": "stdout",
          "text": [
            "[terhubung ke db]\n",
            "[tidak terhubung ke db None]\n",
            "[terhubung ke db]\n",
            "[tidak terhubung ke db None]\n"
          ]
        }
      ]
    },
    {
      "cell_type": "code",
      "source": [],
      "metadata": {
        "id": "tFV5cMYsqus5"
      },
      "execution_count": null,
      "outputs": []
    }
  ]
}